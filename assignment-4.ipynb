{
 "cells": [
  {
   "cell_type": "markdown",
   "id": "50bf373e",
   "metadata": {},
   "source": [
    "# 📒 GMM-Based Synthetic Sampling for Imbalanced Data"
   ]
  },
  {
   "cell_type": "code",
   "execution_count": 363,
   "id": "1f7264b7",
   "metadata": {},
   "outputs": [],
   "source": [
    "# -------------------------------\n",
    "# Jupyter Notebook Setup\n",
    "# -------------------------------\n",
    "%matplotlib inline\n",
    "\n",
    "# -------------------------------\n",
    "# Core Libraries\n",
    "# -------------------------------\n",
    "import numpy as np               # Numerical operations (arrays, random numbers)\n",
    "import pandas as pd              # Data manipulation (DataFrames, CSV handling)\n",
    "import matplotlib.pyplot as plt  # Classic plotting library\n",
    "import seaborn as sns            # Statistical visualization on top of matplotlib\n",
    "\n",
    "# -------------------------------\n",
    "# Scikit-learn Modules\n",
    "# -------------------------------\n",
    "from sklearn.base import BaseEstimator, ClassifierMixin  # For custom classifiers\n",
    "from sklearn.model_selection import train_test_split     # Train/test split\n",
    "from sklearn.preprocessing import StandardScaler         # Feature scaling\n",
    "from sklearn.linear_model import LogisticRegression     # Baseline classifier\n",
    "from sklearn.mixture import GaussianMixture             # GMM for synthetic sampling\n",
    "from sklearn.cluster import KMeans                       # Clustering for undersampling\n",
    "from sklearn.model_selection import GridSearchCV         # Hyperparameter tuning\n",
    "from sklearn.decomposition import PCA                    # Dimensionality reduction\n",
    "from sklearn.metrics import (                             # Evaluation metrics\n",
    "    classification_report, confusion_matrix, roc_auc_score, \n",
    "    roc_curve, auc, precision_recall_curve, average_precision_score,\n",
    "    precision_recall_fscore_support, silhouette_score\n",
    ")\n",
    "from sklearn.datasets import make_blobs                 # Synthetic dataset generator\n",
    "from sklearn.neighbors import NearestNeighbors           # For neighborhood-based operations\n",
    "\n",
    "# -------------------------------\n",
    "# Progress & Visualization Libraries\n",
    "# -------------------------------\n",
    "from tqdm import tqdm                  # Progress bars for loops\n",
    "import plotly.express as px            # Interactive plots (simpler interface)\n",
    "import plotly.graph_objects as go      # Interactive plots (customizable)\n",
    "import plotly.subplots as sp           # Subplots in Plotly\n",
    "\n",
    "# -------------------------------\n",
    "# Random Seed\n",
    "# -------------------------------\n",
    "np.random.seed(42)  # Ensures reproducible results for random operations\n"
   ]
  },
  {
   "cell_type": "markdown",
   "id": "78d10b77",
   "metadata": {},
   "source": [
    "## Part A: Baseline Model and Data Analysis"
   ]
  },
  {
   "cell_type": "markdown",
   "id": "139d81d6",
   "metadata": {},
   "source": [
    "### Task A.1: Data Loading and Analysis"
   ]
  },
  {
   "cell_type": "code",
   "execution_count": 351,
   "id": "dd1e9699",
   "metadata": {},
   "outputs": [],
   "source": [
    "# Load the Data\n",
    "df = pd.read_csv('creditcard.csv')  "
   ]
  },
  {
   "cell_type": "code",
   "execution_count": 352,
   "id": "9d134897",
   "metadata": {},
   "outputs": [
    {
     "data": {
      "text/html": [
       "<div>\n",
       "<style scoped>\n",
       "    .dataframe tbody tr th:only-of-type {\n",
       "        vertical-align: middle;\n",
       "    }\n",
       "\n",
       "    .dataframe tbody tr th {\n",
       "        vertical-align: top;\n",
       "    }\n",
       "\n",
       "    .dataframe thead th {\n",
       "        text-align: right;\n",
       "    }\n",
       "</style>\n",
       "<table border=\"1\" class=\"dataframe\">\n",
       "  <thead>\n",
       "    <tr style=\"text-align: right;\">\n",
       "      <th></th>\n",
       "      <th>index</th>\n",
       "      <th>0</th>\n",
       "    </tr>\n",
       "  </thead>\n",
       "  <tbody>\n",
       "    <tr>\n",
       "      <th>0</th>\n",
       "      <td>Time</td>\n",
       "      <td>0</td>\n",
       "    </tr>\n",
       "    <tr>\n",
       "      <th>1</th>\n",
       "      <td>V1</td>\n",
       "      <td>0</td>\n",
       "    </tr>\n",
       "    <tr>\n",
       "      <th>2</th>\n",
       "      <td>V2</td>\n",
       "      <td>0</td>\n",
       "    </tr>\n",
       "    <tr>\n",
       "      <th>3</th>\n",
       "      <td>V3</td>\n",
       "      <td>0</td>\n",
       "    </tr>\n",
       "    <tr>\n",
       "      <th>4</th>\n",
       "      <td>V4</td>\n",
       "      <td>0</td>\n",
       "    </tr>\n",
       "    <tr>\n",
       "      <th>5</th>\n",
       "      <td>V5</td>\n",
       "      <td>0</td>\n",
       "    </tr>\n",
       "    <tr>\n",
       "      <th>6</th>\n",
       "      <td>V6</td>\n",
       "      <td>0</td>\n",
       "    </tr>\n",
       "    <tr>\n",
       "      <th>7</th>\n",
       "      <td>V7</td>\n",
       "      <td>0</td>\n",
       "    </tr>\n",
       "    <tr>\n",
       "      <th>8</th>\n",
       "      <td>V8</td>\n",
       "      <td>0</td>\n",
       "    </tr>\n",
       "    <tr>\n",
       "      <th>9</th>\n",
       "      <td>V9</td>\n",
       "      <td>0</td>\n",
       "    </tr>\n",
       "    <tr>\n",
       "      <th>10</th>\n",
       "      <td>V10</td>\n",
       "      <td>0</td>\n",
       "    </tr>\n",
       "    <tr>\n",
       "      <th>11</th>\n",
       "      <td>V11</td>\n",
       "      <td>0</td>\n",
       "    </tr>\n",
       "    <tr>\n",
       "      <th>12</th>\n",
       "      <td>V12</td>\n",
       "      <td>0</td>\n",
       "    </tr>\n",
       "    <tr>\n",
       "      <th>13</th>\n",
       "      <td>V13</td>\n",
       "      <td>0</td>\n",
       "    </tr>\n",
       "    <tr>\n",
       "      <th>14</th>\n",
       "      <td>V14</td>\n",
       "      <td>0</td>\n",
       "    </tr>\n",
       "    <tr>\n",
       "      <th>15</th>\n",
       "      <td>V15</td>\n",
       "      <td>0</td>\n",
       "    </tr>\n",
       "    <tr>\n",
       "      <th>16</th>\n",
       "      <td>V16</td>\n",
       "      <td>0</td>\n",
       "    </tr>\n",
       "    <tr>\n",
       "      <th>17</th>\n",
       "      <td>V17</td>\n",
       "      <td>0</td>\n",
       "    </tr>\n",
       "    <tr>\n",
       "      <th>18</th>\n",
       "      <td>V18</td>\n",
       "      <td>0</td>\n",
       "    </tr>\n",
       "    <tr>\n",
       "      <th>19</th>\n",
       "      <td>V19</td>\n",
       "      <td>0</td>\n",
       "    </tr>\n",
       "    <tr>\n",
       "      <th>20</th>\n",
       "      <td>V20</td>\n",
       "      <td>0</td>\n",
       "    </tr>\n",
       "    <tr>\n",
       "      <th>21</th>\n",
       "      <td>V21</td>\n",
       "      <td>0</td>\n",
       "    </tr>\n",
       "    <tr>\n",
       "      <th>22</th>\n",
       "      <td>V22</td>\n",
       "      <td>0</td>\n",
       "    </tr>\n",
       "    <tr>\n",
       "      <th>23</th>\n",
       "      <td>V23</td>\n",
       "      <td>0</td>\n",
       "    </tr>\n",
       "    <tr>\n",
       "      <th>24</th>\n",
       "      <td>V24</td>\n",
       "      <td>0</td>\n",
       "    </tr>\n",
       "    <tr>\n",
       "      <th>25</th>\n",
       "      <td>V25</td>\n",
       "      <td>0</td>\n",
       "    </tr>\n",
       "    <tr>\n",
       "      <th>26</th>\n",
       "      <td>V26</td>\n",
       "      <td>0</td>\n",
       "    </tr>\n",
       "    <tr>\n",
       "      <th>27</th>\n",
       "      <td>V27</td>\n",
       "      <td>0</td>\n",
       "    </tr>\n",
       "    <tr>\n",
       "      <th>28</th>\n",
       "      <td>V28</td>\n",
       "      <td>0</td>\n",
       "    </tr>\n",
       "    <tr>\n",
       "      <th>29</th>\n",
       "      <td>Amount</td>\n",
       "      <td>0</td>\n",
       "    </tr>\n",
       "    <tr>\n",
       "      <th>30</th>\n",
       "      <td>Class</td>\n",
       "      <td>0</td>\n",
       "    </tr>\n",
       "  </tbody>\n",
       "</table>\n",
       "</div>"
      ],
      "text/plain": [
       "     index  0\n",
       "0     Time  0\n",
       "1       V1  0\n",
       "2       V2  0\n",
       "3       V3  0\n",
       "4       V4  0\n",
       "5       V5  0\n",
       "6       V6  0\n",
       "7       V7  0\n",
       "8       V8  0\n",
       "9       V9  0\n",
       "10     V10  0\n",
       "11     V11  0\n",
       "12     V12  0\n",
       "13     V13  0\n",
       "14     V14  0\n",
       "15     V15  0\n",
       "16     V16  0\n",
       "17     V17  0\n",
       "18     V18  0\n",
       "19     V19  0\n",
       "20     V20  0\n",
       "21     V21  0\n",
       "22     V22  0\n",
       "23     V23  0\n",
       "24     V24  0\n",
       "25     V25  0\n",
       "26     V26  0\n",
       "27     V27  0\n",
       "28     V28  0\n",
       "29  Amount  0\n",
       "30   Class  0"
      ]
     },
     "execution_count": 352,
     "metadata": {},
     "output_type": "execute_result"
    }
   ],
   "source": [
    "# Checking Null Values\n",
    "df.isnull().sum().reset_index()"
   ]
  },
  {
   "cell_type": "code",
   "execution_count": null,
   "id": "46b8b3d8",
   "metadata": {},
   "outputs": [
    {
     "name": "stdout",
     "output_type": "stream",
     "text": [
      "Shape: (284807, 31)\n",
      "Class\n",
      "0    284315\n",
      "1       492\n",
      "Name: count, dtype: int64\n",
      "Class\n",
      "0    0.998273\n",
      "1    0.001727\n",
      "Name: proportion, dtype: float64\n"
     ]
    },
    {
     "data": {
      "text/html": [
       "<div>\n",
       "<style scoped>\n",
       "    .dataframe tbody tr th:only-of-type {\n",
       "        vertical-align: middle;\n",
       "    }\n",
       "\n",
       "    .dataframe tbody tr th {\n",
       "        vertical-align: top;\n",
       "    }\n",
       "\n",
       "    .dataframe thead th {\n",
       "        text-align: right;\n",
       "    }\n",
       "</style>\n",
       "<table border=\"1\" class=\"dataframe\">\n",
       "  <thead>\n",
       "    <tr style=\"text-align: right;\">\n",
       "      <th></th>\n",
       "      <th>Time</th>\n",
       "      <th>V1</th>\n",
       "      <th>V2</th>\n",
       "      <th>V3</th>\n",
       "      <th>V4</th>\n",
       "      <th>V5</th>\n",
       "      <th>V6</th>\n",
       "      <th>V7</th>\n",
       "      <th>V8</th>\n",
       "      <th>V9</th>\n",
       "      <th>...</th>\n",
       "      <th>V21</th>\n",
       "      <th>V22</th>\n",
       "      <th>V23</th>\n",
       "      <th>V24</th>\n",
       "      <th>V25</th>\n",
       "      <th>V26</th>\n",
       "      <th>V27</th>\n",
       "      <th>V28</th>\n",
       "      <th>Amount</th>\n",
       "      <th>Class</th>\n",
       "    </tr>\n",
       "  </thead>\n",
       "  <tbody>\n",
       "    <tr>\n",
       "      <th>0</th>\n",
       "      <td>0.0</td>\n",
       "      <td>-1.359807</td>\n",
       "      <td>-0.072781</td>\n",
       "      <td>2.536347</td>\n",
       "      <td>1.378155</td>\n",
       "      <td>-0.338321</td>\n",
       "      <td>0.462388</td>\n",
       "      <td>0.239599</td>\n",
       "      <td>0.098698</td>\n",
       "      <td>0.363787</td>\n",
       "      <td>...</td>\n",
       "      <td>-0.018307</td>\n",
       "      <td>0.277838</td>\n",
       "      <td>-0.110474</td>\n",
       "      <td>0.066928</td>\n",
       "      <td>0.128539</td>\n",
       "      <td>-0.189115</td>\n",
       "      <td>0.133558</td>\n",
       "      <td>-0.021053</td>\n",
       "      <td>149.62</td>\n",
       "      <td>0</td>\n",
       "    </tr>\n",
       "    <tr>\n",
       "      <th>1</th>\n",
       "      <td>0.0</td>\n",
       "      <td>1.191857</td>\n",
       "      <td>0.266151</td>\n",
       "      <td>0.166480</td>\n",
       "      <td>0.448154</td>\n",
       "      <td>0.060018</td>\n",
       "      <td>-0.082361</td>\n",
       "      <td>-0.078803</td>\n",
       "      <td>0.085102</td>\n",
       "      <td>-0.255425</td>\n",
       "      <td>...</td>\n",
       "      <td>-0.225775</td>\n",
       "      <td>-0.638672</td>\n",
       "      <td>0.101288</td>\n",
       "      <td>-0.339846</td>\n",
       "      <td>0.167170</td>\n",
       "      <td>0.125895</td>\n",
       "      <td>-0.008983</td>\n",
       "      <td>0.014724</td>\n",
       "      <td>2.69</td>\n",
       "      <td>0</td>\n",
       "    </tr>\n",
       "    <tr>\n",
       "      <th>2</th>\n",
       "      <td>1.0</td>\n",
       "      <td>-1.358354</td>\n",
       "      <td>-1.340163</td>\n",
       "      <td>1.773209</td>\n",
       "      <td>0.379780</td>\n",
       "      <td>-0.503198</td>\n",
       "      <td>1.800499</td>\n",
       "      <td>0.791461</td>\n",
       "      <td>0.247676</td>\n",
       "      <td>-1.514654</td>\n",
       "      <td>...</td>\n",
       "      <td>0.247998</td>\n",
       "      <td>0.771679</td>\n",
       "      <td>0.909412</td>\n",
       "      <td>-0.689281</td>\n",
       "      <td>-0.327642</td>\n",
       "      <td>-0.139097</td>\n",
       "      <td>-0.055353</td>\n",
       "      <td>-0.059752</td>\n",
       "      <td>378.66</td>\n",
       "      <td>0</td>\n",
       "    </tr>\n",
       "    <tr>\n",
       "      <th>3</th>\n",
       "      <td>1.0</td>\n",
       "      <td>-0.966272</td>\n",
       "      <td>-0.185226</td>\n",
       "      <td>1.792993</td>\n",
       "      <td>-0.863291</td>\n",
       "      <td>-0.010309</td>\n",
       "      <td>1.247203</td>\n",
       "      <td>0.237609</td>\n",
       "      <td>0.377436</td>\n",
       "      <td>-1.387024</td>\n",
       "      <td>...</td>\n",
       "      <td>-0.108300</td>\n",
       "      <td>0.005274</td>\n",
       "      <td>-0.190321</td>\n",
       "      <td>-1.175575</td>\n",
       "      <td>0.647376</td>\n",
       "      <td>-0.221929</td>\n",
       "      <td>0.062723</td>\n",
       "      <td>0.061458</td>\n",
       "      <td>123.50</td>\n",
       "      <td>0</td>\n",
       "    </tr>\n",
       "    <tr>\n",
       "      <th>4</th>\n",
       "      <td>2.0</td>\n",
       "      <td>-1.158233</td>\n",
       "      <td>0.877737</td>\n",
       "      <td>1.548718</td>\n",
       "      <td>0.403034</td>\n",
       "      <td>-0.407193</td>\n",
       "      <td>0.095921</td>\n",
       "      <td>0.592941</td>\n",
       "      <td>-0.270533</td>\n",
       "      <td>0.817739</td>\n",
       "      <td>...</td>\n",
       "      <td>-0.009431</td>\n",
       "      <td>0.798278</td>\n",
       "      <td>-0.137458</td>\n",
       "      <td>0.141267</td>\n",
       "      <td>-0.206010</td>\n",
       "      <td>0.502292</td>\n",
       "      <td>0.219422</td>\n",
       "      <td>0.215153</td>\n",
       "      <td>69.99</td>\n",
       "      <td>0</td>\n",
       "    </tr>\n",
       "  </tbody>\n",
       "</table>\n",
       "<p>5 rows × 31 columns</p>\n",
       "</div>"
      ],
      "text/plain": [
       "   Time        V1        V2        V3        V4        V5        V6        V7  \\\n",
       "0   0.0 -1.359807 -0.072781  2.536347  1.378155 -0.338321  0.462388  0.239599   \n",
       "1   0.0  1.191857  0.266151  0.166480  0.448154  0.060018 -0.082361 -0.078803   \n",
       "2   1.0 -1.358354 -1.340163  1.773209  0.379780 -0.503198  1.800499  0.791461   \n",
       "3   1.0 -0.966272 -0.185226  1.792993 -0.863291 -0.010309  1.247203  0.237609   \n",
       "4   2.0 -1.158233  0.877737  1.548718  0.403034 -0.407193  0.095921  0.592941   \n",
       "\n",
       "         V8        V9  ...       V21       V22       V23       V24       V25  \\\n",
       "0  0.098698  0.363787  ... -0.018307  0.277838 -0.110474  0.066928  0.128539   \n",
       "1  0.085102 -0.255425  ... -0.225775 -0.638672  0.101288 -0.339846  0.167170   \n",
       "2  0.247676 -1.514654  ...  0.247998  0.771679  0.909412 -0.689281 -0.327642   \n",
       "3  0.377436 -1.387024  ... -0.108300  0.005274 -0.190321 -1.175575  0.647376   \n",
       "4 -0.270533  0.817739  ... -0.009431  0.798278 -0.137458  0.141267 -0.206010   \n",
       "\n",
       "        V26       V27       V28  Amount  Class  \n",
       "0 -0.189115  0.133558 -0.021053  149.62      0  \n",
       "1  0.125895 -0.008983  0.014724    2.69      0  \n",
       "2 -0.139097 -0.055353 -0.059752  378.66      0  \n",
       "3 -0.221929  0.062723  0.061458  123.50      0  \n",
       "4  0.502292  0.219422  0.215153   69.99      0  \n",
       "\n",
       "[5 rows x 31 columns]"
      ]
     },
     "execution_count": 353,
     "metadata": {},
     "output_type": "execute_result"
    }
   ],
   "source": [
    "# Print the shape of the DataFrame (rows, columns)\n",
    "print(\"Shape:\", df.shape)\n",
    "\n",
    "# Print the count of each class in the 'Class' column\n",
    "print(df['Class'].value_counts())\n",
    "\n",
    "# Print the proportion (percentage) of each class in the 'Class' column\n",
    "print(df['Class'].value_counts(normalize=True))\n",
    "\n",
    "# Display the first 5 rows of the DataFrame for a quick overview\n",
    "df.head()\n"
   ]
  },
  {
   "cell_type": "markdown",
   "id": "62e8abb9",
   "metadata": {},
   "source": [
    "#### 🔎 Observations on Class Distribution\n",
    "\n",
    "- **Total samples:** 284,807  \n",
    "- **Majority class (0 = Non-fraud):** 284,315 samples (≈ 99.83%)  \n",
    "- **Minority class (1 = Fraud):** 492 samples (≈ 0.17%)  \n",
    "- **Imbalance ratio:** ~578 : 1 (non-fraud to fraud)\n",
    "- **Null Values:** 0\n",
    "\n",
    "**Key Insights:**\n",
    "1. The dataset is *extremely imbalanced*.\n",
    "2. A naive classifier predicting only the majority class would achieve ~99.8% accuracy but detect **zero fraud cases**.\n",
    "3. Standard accuracy is therefore misleading; we must rely on **Precision, Recall, F1, ROC AUC, and PR AUC**.\n",
    "4. Balancing techniques are necessary:\n",
    "   - **Oversampling (e.g., GMM, SMOTE)** to increase minority representation.\n",
    "   - **Undersampling (e.g., clustering-based)** to reduce majority redundancy.\n",
    "5. Our goal is to improve **minority recall** while maintaining reasonable precision, since in fraud detection missing fraud is costlier than investigating false positives."
   ]
  },
  {
   "cell_type": "markdown",
   "id": "49620c88",
   "metadata": {},
   "source": [
    "## "
   ]
  },
  {
   "cell_type": "markdown",
   "id": "f07aa5c8",
   "metadata": {},
   "source": [
    "### Task A.2: Model Training"
   ]
  },
  {
   "cell_type": "code",
   "execution_count": null,
   "id": "6070bf43",
   "metadata": {},
   "outputs": [
    {
     "name": "stdout",
     "output_type": "stream",
     "text": [
      "Train class distribution:\n",
      " Class\n",
      "0    227451\n",
      "1       394\n",
      "Name: count, dtype: int64\n",
      "Test class distribution:\n",
      " Class\n",
      "0    56864\n",
      "1       98\n",
      "Name: count, dtype: int64\n"
     ]
    }
   ],
   "source": [
    "# -----------------------------\n",
    "# Train-Test Split\n",
    "# -----------------------------\n",
    "\n",
    "# --- Step 1: Separate features and target ---\n",
    "# X = all features (drop 'Class')\n",
    "# y = target variable (fraud class: 0 = Non-fraud, 1 = Fraud)\n",
    "X = df.drop(columns=['Class'])\n",
    "y = df['Class']\n",
    "\n",
    "# --- Step 2: Split into training and test sets ---\n",
    "# - test_size=0.2 → 20% data for testing, 80% for training\n",
    "# - stratify=y → ensures class proportions (fraud vs non-fraud) are preserved in both sets\n",
    "# - random_state=42 → ensures reproducibility of the split\n",
    "X_train, X_test, y_train, y_test = train_test_split(\n",
    "    X, y, test_size=0.2, stratify=y, random_state=42\n",
    ")\n",
    "\n",
    "# --- Step 3: Inspect class distribution ---\n",
    "# Print how many fraud (1) and non-fraud (0) samples are in train and test sets\n",
    "print(\"Train class distribution:\\n\", y_train.value_counts())\n",
    "print(\"Test class distribution:\\n\", y_test.value_counts())\n"
   ]
  },
  {
   "cell_type": "code",
   "execution_count": 355,
   "id": "b571d884",
   "metadata": {},
   "outputs": [
    {
     "data": {
      "application/vnd.plotly.v1+json": {
       "config": {
        "plotlyServerURL": "https://plot.ly"
       },
       "data": [
        {
         "customdata": {
          "bdata": "AAE=",
          "dtype": "i1",
          "shape": "2, 1"
         },
         "domain": {
          "x": [
           0,
           0.45
          ],
          "y": [
           0,
           1
          ]
         },
         "hovertemplate": "Class=%{customdata[0]}<br>Count=%{value}<extra></extra>",
         "labels": {
          "bdata": "AAE=",
          "dtype": "i1"
         },
         "legendgroup": "",
         "marker": {
          "colors": [
           "lightblue",
           "orange"
          ]
         },
         "name": "",
         "showlegend": true,
         "type": "pie",
         "values": {
          "bdata": "e3gDAIoBAAA=",
          "dtype": "i4"
         }
        },
        {
         "customdata": {
          "bdata": "AAE=",
          "dtype": "i1",
          "shape": "2, 1"
         },
         "domain": {
          "x": [
           0.55,
           1
          ],
          "y": [
           0,
           1
          ]
         },
         "hovertemplate": "Class=%{customdata[0]}<br>Count=%{value}<extra></extra>",
         "labels": {
          "bdata": "AAE=",
          "dtype": "i1"
         },
         "legendgroup": "",
         "marker": {
          "colors": [
           "lightblue",
           "orange"
          ]
         },
         "name": "",
         "showlegend": true,
         "type": "pie",
         "values": {
          "bdata": "IN4AAGIAAAA=",
          "dtype": "i4"
         }
        }
       ],
       "layout": {
        "annotations": [
         {
          "font": {
           "size": 16
          },
          "showarrow": false,
          "text": "Train Set",
          "x": 0.225,
          "xanchor": "center",
          "xref": "paper",
          "y": 1,
          "yanchor": "bottom",
          "yref": "paper"
         },
         {
          "font": {
           "size": 16
          },
          "showarrow": false,
          "text": "Test Set",
          "x": 0.775,
          "xanchor": "center",
          "xref": "paper",
          "y": 1,
          "yanchor": "bottom",
          "yref": "paper"
         }
        ],
        "height": 600,
        "legend": {
         "title": {
          "text": "Class (0 = Non-fraud, 1 = Fraud)"
         }
        },
        "template": {
         "data": {
          "bar": [
           {
            "error_x": {
             "color": "#2a3f5f"
            },
            "error_y": {
             "color": "#2a3f5f"
            },
            "marker": {
             "line": {
              "color": "#E5ECF6",
              "width": 0.5
             },
             "pattern": {
              "fillmode": "overlay",
              "size": 10,
              "solidity": 0.2
             }
            },
            "type": "bar"
           }
          ],
          "barpolar": [
           {
            "marker": {
             "line": {
              "color": "#E5ECF6",
              "width": 0.5
             },
             "pattern": {
              "fillmode": "overlay",
              "size": 10,
              "solidity": 0.2
             }
            },
            "type": "barpolar"
           }
          ],
          "carpet": [
           {
            "aaxis": {
             "endlinecolor": "#2a3f5f",
             "gridcolor": "white",
             "linecolor": "white",
             "minorgridcolor": "white",
             "startlinecolor": "#2a3f5f"
            },
            "baxis": {
             "endlinecolor": "#2a3f5f",
             "gridcolor": "white",
             "linecolor": "white",
             "minorgridcolor": "white",
             "startlinecolor": "#2a3f5f"
            },
            "type": "carpet"
           }
          ],
          "choropleth": [
           {
            "colorbar": {
             "outlinewidth": 0,
             "ticks": ""
            },
            "type": "choropleth"
           }
          ],
          "contour": [
           {
            "colorbar": {
             "outlinewidth": 0,
             "ticks": ""
            },
            "colorscale": [
             [
              0,
              "#0d0887"
             ],
             [
              0.1111111111111111,
              "#46039f"
             ],
             [
              0.2222222222222222,
              "#7201a8"
             ],
             [
              0.3333333333333333,
              "#9c179e"
             ],
             [
              0.4444444444444444,
              "#bd3786"
             ],
             [
              0.5555555555555556,
              "#d8576b"
             ],
             [
              0.6666666666666666,
              "#ed7953"
             ],
             [
              0.7777777777777778,
              "#fb9f3a"
             ],
             [
              0.8888888888888888,
              "#fdca26"
             ],
             [
              1,
              "#f0f921"
             ]
            ],
            "type": "contour"
           }
          ],
          "contourcarpet": [
           {
            "colorbar": {
             "outlinewidth": 0,
             "ticks": ""
            },
            "type": "contourcarpet"
           }
          ],
          "heatmap": [
           {
            "colorbar": {
             "outlinewidth": 0,
             "ticks": ""
            },
            "colorscale": [
             [
              0,
              "#0d0887"
             ],
             [
              0.1111111111111111,
              "#46039f"
             ],
             [
              0.2222222222222222,
              "#7201a8"
             ],
             [
              0.3333333333333333,
              "#9c179e"
             ],
             [
              0.4444444444444444,
              "#bd3786"
             ],
             [
              0.5555555555555556,
              "#d8576b"
             ],
             [
              0.6666666666666666,
              "#ed7953"
             ],
             [
              0.7777777777777778,
              "#fb9f3a"
             ],
             [
              0.8888888888888888,
              "#fdca26"
             ],
             [
              1,
              "#f0f921"
             ]
            ],
            "type": "heatmap"
           }
          ],
          "histogram": [
           {
            "marker": {
             "pattern": {
              "fillmode": "overlay",
              "size": 10,
              "solidity": 0.2
             }
            },
            "type": "histogram"
           }
          ],
          "histogram2d": [
           {
            "colorbar": {
             "outlinewidth": 0,
             "ticks": ""
            },
            "colorscale": [
             [
              0,
              "#0d0887"
             ],
             [
              0.1111111111111111,
              "#46039f"
             ],
             [
              0.2222222222222222,
              "#7201a8"
             ],
             [
              0.3333333333333333,
              "#9c179e"
             ],
             [
              0.4444444444444444,
              "#bd3786"
             ],
             [
              0.5555555555555556,
              "#d8576b"
             ],
             [
              0.6666666666666666,
              "#ed7953"
             ],
             [
              0.7777777777777778,
              "#fb9f3a"
             ],
             [
              0.8888888888888888,
              "#fdca26"
             ],
             [
              1,
              "#f0f921"
             ]
            ],
            "type": "histogram2d"
           }
          ],
          "histogram2dcontour": [
           {
            "colorbar": {
             "outlinewidth": 0,
             "ticks": ""
            },
            "colorscale": [
             [
              0,
              "#0d0887"
             ],
             [
              0.1111111111111111,
              "#46039f"
             ],
             [
              0.2222222222222222,
              "#7201a8"
             ],
             [
              0.3333333333333333,
              "#9c179e"
             ],
             [
              0.4444444444444444,
              "#bd3786"
             ],
             [
              0.5555555555555556,
              "#d8576b"
             ],
             [
              0.6666666666666666,
              "#ed7953"
             ],
             [
              0.7777777777777778,
              "#fb9f3a"
             ],
             [
              0.8888888888888888,
              "#fdca26"
             ],
             [
              1,
              "#f0f921"
             ]
            ],
            "type": "histogram2dcontour"
           }
          ],
          "mesh3d": [
           {
            "colorbar": {
             "outlinewidth": 0,
             "ticks": ""
            },
            "type": "mesh3d"
           }
          ],
          "parcoords": [
           {
            "line": {
             "colorbar": {
              "outlinewidth": 0,
              "ticks": ""
             }
            },
            "type": "parcoords"
           }
          ],
          "pie": [
           {
            "automargin": true,
            "type": "pie"
           }
          ],
          "scatter": [
           {
            "fillpattern": {
             "fillmode": "overlay",
             "size": 10,
             "solidity": 0.2
            },
            "type": "scatter"
           }
          ],
          "scatter3d": [
           {
            "line": {
             "colorbar": {
              "outlinewidth": 0,
              "ticks": ""
             }
            },
            "marker": {
             "colorbar": {
              "outlinewidth": 0,
              "ticks": ""
             }
            },
            "type": "scatter3d"
           }
          ],
          "scattercarpet": [
           {
            "marker": {
             "colorbar": {
              "outlinewidth": 0,
              "ticks": ""
             }
            },
            "type": "scattercarpet"
           }
          ],
          "scattergeo": [
           {
            "marker": {
             "colorbar": {
              "outlinewidth": 0,
              "ticks": ""
             }
            },
            "type": "scattergeo"
           }
          ],
          "scattergl": [
           {
            "marker": {
             "colorbar": {
              "outlinewidth": 0,
              "ticks": ""
             }
            },
            "type": "scattergl"
           }
          ],
          "scattermap": [
           {
            "marker": {
             "colorbar": {
              "outlinewidth": 0,
              "ticks": ""
             }
            },
            "type": "scattermap"
           }
          ],
          "scattermapbox": [
           {
            "marker": {
             "colorbar": {
              "outlinewidth": 0,
              "ticks": ""
             }
            },
            "type": "scattermapbox"
           }
          ],
          "scatterpolar": [
           {
            "marker": {
             "colorbar": {
              "outlinewidth": 0,
              "ticks": ""
             }
            },
            "type": "scatterpolar"
           }
          ],
          "scatterpolargl": [
           {
            "marker": {
             "colorbar": {
              "outlinewidth": 0,
              "ticks": ""
             }
            },
            "type": "scatterpolargl"
           }
          ],
          "scatterternary": [
           {
            "marker": {
             "colorbar": {
              "outlinewidth": 0,
              "ticks": ""
             }
            },
            "type": "scatterternary"
           }
          ],
          "surface": [
           {
            "colorbar": {
             "outlinewidth": 0,
             "ticks": ""
            },
            "colorscale": [
             [
              0,
              "#0d0887"
             ],
             [
              0.1111111111111111,
              "#46039f"
             ],
             [
              0.2222222222222222,
              "#7201a8"
             ],
             [
              0.3333333333333333,
              "#9c179e"
             ],
             [
              0.4444444444444444,
              "#bd3786"
             ],
             [
              0.5555555555555556,
              "#d8576b"
             ],
             [
              0.6666666666666666,
              "#ed7953"
             ],
             [
              0.7777777777777778,
              "#fb9f3a"
             ],
             [
              0.8888888888888888,
              "#fdca26"
             ],
             [
              1,
              "#f0f921"
             ]
            ],
            "type": "surface"
           }
          ],
          "table": [
           {
            "cells": {
             "fill": {
              "color": "#EBF0F8"
             },
             "line": {
              "color": "white"
             }
            },
            "header": {
             "fill": {
              "color": "#C8D4E3"
             },
             "line": {
              "color": "white"
             }
            },
            "type": "table"
           }
          ]
         },
         "layout": {
          "annotationdefaults": {
           "arrowcolor": "#2a3f5f",
           "arrowhead": 0,
           "arrowwidth": 1
          },
          "autotypenumbers": "strict",
          "coloraxis": {
           "colorbar": {
            "outlinewidth": 0,
            "ticks": ""
           }
          },
          "colorscale": {
           "diverging": [
            [
             0,
             "#8e0152"
            ],
            [
             0.1,
             "#c51b7d"
            ],
            [
             0.2,
             "#de77ae"
            ],
            [
             0.3,
             "#f1b6da"
            ],
            [
             0.4,
             "#fde0ef"
            ],
            [
             0.5,
             "#f7f7f7"
            ],
            [
             0.6,
             "#e6f5d0"
            ],
            [
             0.7,
             "#b8e186"
            ],
            [
             0.8,
             "#7fbc41"
            ],
            [
             0.9,
             "#4d9221"
            ],
            [
             1,
             "#276419"
            ]
           ],
           "sequential": [
            [
             0,
             "#0d0887"
            ],
            [
             0.1111111111111111,
             "#46039f"
            ],
            [
             0.2222222222222222,
             "#7201a8"
            ],
            [
             0.3333333333333333,
             "#9c179e"
            ],
            [
             0.4444444444444444,
             "#bd3786"
            ],
            [
             0.5555555555555556,
             "#d8576b"
            ],
            [
             0.6666666666666666,
             "#ed7953"
            ],
            [
             0.7777777777777778,
             "#fb9f3a"
            ],
            [
             0.8888888888888888,
             "#fdca26"
            ],
            [
             1,
             "#f0f921"
            ]
           ],
           "sequentialminus": [
            [
             0,
             "#0d0887"
            ],
            [
             0.1111111111111111,
             "#46039f"
            ],
            [
             0.2222222222222222,
             "#7201a8"
            ],
            [
             0.3333333333333333,
             "#9c179e"
            ],
            [
             0.4444444444444444,
             "#bd3786"
            ],
            [
             0.5555555555555556,
             "#d8576b"
            ],
            [
             0.6666666666666666,
             "#ed7953"
            ],
            [
             0.7777777777777778,
             "#fb9f3a"
            ],
            [
             0.8888888888888888,
             "#fdca26"
            ],
            [
             1,
             "#f0f921"
            ]
           ]
          },
          "colorway": [
           "#636efa",
           "#EF553B",
           "#00cc96",
           "#ab63fa",
           "#FFA15A",
           "#19d3f3",
           "#FF6692",
           "#B6E880",
           "#FF97FF",
           "#FECB52"
          ],
          "font": {
           "color": "#2a3f5f"
          },
          "geo": {
           "bgcolor": "white",
           "lakecolor": "white",
           "landcolor": "#E5ECF6",
           "showlakes": true,
           "showland": true,
           "subunitcolor": "white"
          },
          "hoverlabel": {
           "align": "left"
          },
          "hovermode": "closest",
          "mapbox": {
           "style": "light"
          },
          "paper_bgcolor": "white",
          "plot_bgcolor": "#E5ECF6",
          "polar": {
           "angularaxis": {
            "gridcolor": "white",
            "linecolor": "white",
            "ticks": ""
           },
           "bgcolor": "#E5ECF6",
           "radialaxis": {
            "gridcolor": "white",
            "linecolor": "white",
            "ticks": ""
           }
          },
          "scene": {
           "xaxis": {
            "backgroundcolor": "#E5ECF6",
            "gridcolor": "white",
            "gridwidth": 2,
            "linecolor": "white",
            "showbackground": true,
            "ticks": "",
            "zerolinecolor": "white"
           },
           "yaxis": {
            "backgroundcolor": "#E5ECF6",
            "gridcolor": "white",
            "gridwidth": 2,
            "linecolor": "white",
            "showbackground": true,
            "ticks": "",
            "zerolinecolor": "white"
           },
           "zaxis": {
            "backgroundcolor": "#E5ECF6",
            "gridcolor": "white",
            "gridwidth": 2,
            "linecolor": "white",
            "showbackground": true,
            "ticks": "",
            "zerolinecolor": "white"
           }
          },
          "shapedefaults": {
           "line": {
            "color": "#2a3f5f"
           }
          },
          "ternary": {
           "aaxis": {
            "gridcolor": "white",
            "linecolor": "white",
            "ticks": ""
           },
           "baxis": {
            "gridcolor": "white",
            "linecolor": "white",
            "ticks": ""
           },
           "bgcolor": "#E5ECF6",
           "caxis": {
            "gridcolor": "white",
            "linecolor": "white",
            "ticks": ""
           }
          },
          "title": {
           "x": 0.05
          },
          "xaxis": {
           "automargin": true,
           "gridcolor": "white",
           "linecolor": "white",
           "ticks": "",
           "title": {
            "standoff": 15
           },
           "zerolinecolor": "white",
           "zerolinewidth": 2
          },
          "yaxis": {
           "automargin": true,
           "gridcolor": "white",
           "linecolor": "white",
           "ticks": "",
           "title": {
            "standoff": 15
           },
           "zerolinecolor": "white",
           "zerolinewidth": 2
          }
         }
        },
        "title": {
         "text": "Class Distribution in Train vs Test Sets"
        },
        "width": 1000
       }
      }
     },
     "metadata": {},
     "output_type": "display_data"
    }
   ],
   "source": [
    "# Visualization of train and test split\n",
    "# Compute counts\n",
    "train_counts = y_train.value_counts().reset_index()\n",
    "train_counts.columns = ['Class', 'Count']\n",
    "test_counts = y_test.value_counts().reset_index()\n",
    "test_counts.columns = ['Class', 'Count']\n",
    "\n",
    "# Create subplot with 2 pie charts (Train vs Test)\n",
    "fig = sp.make_subplots(rows=1, cols=2, specs=[[{'type':'domain'}, {'type':'domain'}]],\n",
    "                       subplot_titles=[\"Train Set\", \"Test Set\"])\n",
    "\n",
    "# Add train pie\n",
    "fig.add_trace(\n",
    "    px.pie(train_counts, names='Class', values='Count', \n",
    "           color='Class', color_discrete_map={0:'lightblue', 1:'orange'}).data[0],\n",
    "    row=1, col=1\n",
    ")\n",
    "\n",
    "# Add test pie\n",
    "fig.add_trace(\n",
    "    px.pie(test_counts, names='Class', values='Count', \n",
    "           color='Class', color_discrete_map={0:'lightblue', 1:'orange'}).data[0],\n",
    "    row=1, col=2\n",
    ")\n",
    "\n",
    "# Update layout\n",
    "fig.update_layout(title_text=\"Class Distribution in Train vs Test Sets\",\n",
    "                  legend_title_text=\"Class (0 = Non-fraud, 1 = Fraud)\",width=1000,height=600)\n",
    "fig.show()"
   ]
  },
  {
   "cell_type": "markdown",
   "id": "9d4df007",
   "metadata": {},
   "source": [
    "#### 🔎 Observations on Train/Test Class Distribution\n",
    "\n",
    "- **Train set:**\n",
    "  - Majority class (0 = Non-fraud): 227,451 samples  \n",
    "  - Minority class (1 = Fraud): 394 samples  \n",
    "  - Imbalance ratio ≈ **577 : 1**\n",
    "\n",
    "- **Test set:**\n",
    "  - Majority class (0 = Non-fraud): 56,864 samples  \n",
    "  - Minority class (1 = Fraud): 98 samples  \n",
    "  - Imbalance ratio ≈ **580 : 1**\n",
    "\n",
    "**Key Insights:**\n",
    "1. Both train and test sets preserve the **extreme imbalance** of the original dataset.\n",
    "2. Fraud cases (minority class) form **less than 0.2%** of the data.\n",
    "3. Any classifier trained without resampling will be heavily biased toward the majority class.\n",
    "4. Accuracy alone will be misleading; instead we must evaluate using **Recall, Precision, F1, ROC AUC, and PR AUC** for the minority class.\n",
    "5. Resampling strategies (GMM-based oversampling + clustering-based undersampling) are necessary to handle this imbalance before training.\n"
   ]
  },
  {
   "cell_type": "markdown",
   "id": "472275e9",
   "metadata": {},
   "source": [
    "#### Task A.2.1: Scaling and Model Training"
   ]
  },
  {
   "cell_type": "markdown",
   "id": "2fb49955",
   "metadata": {},
   "source": [
    "##### ⚖️ Why Are We Doing Feature Scaling?\n",
    "\n",
    "We apply **StandardScaler** to transform all features so that they have:\n",
    "\n",
    "- **Mean = 0**\n",
    "- **Standard deviation = 1**\n",
    "\n",
    "**Reasons for scaling:**\n",
    "1. **Logistic Regression depends on optimization (gradient descent).**  \n",
    "   If features are on very different scales (e.g., transaction amount in thousands vs PCA features near 0), the optimization converges slowly or may get stuck.\n",
    "\n",
    "2. **Regularization works better.**  \n",
    "   Logistic Regression uses L2 (ridge) or L1 (lasso) regularization to shrink coefficients.  \n",
    "   If features are not scaled, large-scale features dominate the penalty, leading to biased coefficients.\n",
    "\n",
    "3. **Interpretability of coefficients.**  \n",
    "   After scaling, coefficients reflect the relative importance of features, not just their original units.\n",
    "\n",
    "4. **Downstream GMM fitting.**  \n",
    "   Gaussian Mixture Models assume features are comparable across dimensions. Scaling ensures no single feature (like `Amount`) dominates the covariance structure.\n",
    "\n",
    "**In short:**  \n",
    "Scaling makes training stable, improves convergence, ensures fair regularization, and prepares the data for later steps (GMM-based oversampling).\n"
   ]
  },
  {
   "cell_type": "code",
   "execution_count": null,
   "id": "beb83d0d",
   "metadata": {},
   "outputs": [],
   "source": [
    "# -----------------------------\n",
    "# Baseline Logistic Regression Model\n",
    "# -----------------------------\n",
    "\n",
    "# --- Step 1: Feature Scaling ---\n",
    "# Logistic Regression works better when features are standardized\n",
    "# StandardScaler transforms features to mean=0, std=1\n",
    "scaler = StandardScaler()\n",
    "X_train_scaled = scaler.fit_transform(X_train)   # Fit scaler on training data, then transform it\n",
    "X_test_scaled = scaler.transform(X_test)        # Use the same scaler for test data\n",
    "\n",
    "# --- Step 2: Train Logistic Regression ---\n",
    "# - max_iter=5000 → ensure convergence since dataset is large\n",
    "# - solver='lbfgs' → efficient for L2 regularization and large datasets\n",
    "baseline_clf = LogisticRegression(max_iter=5000, solver='lbfgs')\n",
    "baseline_clf.fit(X_train_scaled, y_train)       # Train model on scaled training data\n",
    "\n",
    "# --- Step 3: Predictions ---\n",
    "# Predict class labels (0 = Non-fraud, 1 = Fraud)\n",
    "y_pred_baseline = baseline_clf.predict(X_test_scaled)\n",
    "\n",
    "# Predict class probabilities (useful for ROC/PR curves and threshold tuning)\n",
    "# [:,1] extracts probability of class \"1\" (fraud)\n",
    "y_prob_baseline = baseline_clf.predict_proba(X_test_scaled)[:, 1]\n"
   ]
  },
  {
   "cell_type": "markdown",
   "id": "eae3af6c",
   "metadata": {},
   "source": [
    "### Task A.3: Baseline Evaluation"
   ]
  },
  {
   "cell_type": "code",
   "execution_count": 357,
   "id": "a7ad3bd6",
   "metadata": {},
   "outputs": [
    {
     "name": "stdout",
     "output_type": "stream",
     "text": [
      "=== Baseline Report ===\n",
      "              precision    recall  f1-score   support\n",
      "\n",
      "           0     0.9994    0.9998    0.9996     56864\n",
      "           1     0.8267    0.6327    0.7168        98\n",
      "\n",
      "    accuracy                         0.9991     56962\n",
      "   macro avg     0.9130    0.8162    0.8582     56962\n",
      "weighted avg     0.9991    0.9991    0.9991     56962\n",
      "\n",
      "Confusion matrix:\n",
      " [[56851    13]\n",
      " [   36    62]]\n",
      "ROC AUC: 0.9605494455801453\n",
      "PR AUC: 0.7413820992780461\n"
     ]
    },
    {
     "data": {
      "image/png": "[encoded data removed]",
      "text/plain": [
       "<Figure size 1800x500 with 3 Axes>"
      ]
     },
     "metadata": {},
     "output_type": "display_data"
    }
   ],
   "source": [
    "# === Baseline Model Evaluation ===\n",
    "print(\"=== Baseline Report ===\")\n",
    "print(classification_report(y_test, y_pred_baseline, digits=4))\n",
    "print(\"Confusion matrix:\\n\", confusion_matrix(y_test, y_pred_baseline))\n",
    "print(\"ROC AUC:\", roc_auc_score(y_test, y_prob_baseline))\n",
    "print(\"PR AUC:\", average_precision_score(y_test, y_prob_baseline))\n",
    "\n",
    "# Compute ROC and PR values\n",
    "fpr, tpr, _ = roc_curve(y_test, y_prob_baseline)\n",
    "precision, recall, _ = precision_recall_curve(y_test, y_prob_baseline)\n",
    "cm = confusion_matrix(y_test, y_pred_baseline)\n",
    "\n",
    "# Use seaborn colorblind palette\n",
    "colors = sns.color_palette(\"colorblind\")\n",
    "\n",
    "# Create 3 subplots in one row\n",
    "fig, axs = plt.subplots(1, 3, figsize=(18, 5))\n",
    "\n",
    "# --- Confusion Matrix Heatmap ---\n",
    "sns.heatmap(\n",
    "    cm, annot=True, fmt=\"d\", cmap=\"crest\", cbar=False, ax=axs[0],\n",
    "    xticklabels=[\"0 = Non-Fraud\", \"1 = Fraud\"],\n",
    "    yticklabels=[\"0 = Non-Fraud\", \"1 = Fraud\"]\n",
    ")\n",
    "axs[0].set_title(\"Confusion Matrix (Baseline)\", fontsize=12)\n",
    "axs[0].set_xlabel(\"Predicted Label\")\n",
    "axs[0].set_ylabel(\"True Label\")\n",
    "\n",
    "# --- ROC Curve ---\n",
    "axs[1].plot(fpr, tpr, label=f\"AUC = {auc(fpr, tpr):.4f}\", color=colors[0])\n",
    "axs[1].plot([0, 1], [0, 1], '--', color=\"gray\", alpha=0.7)  # reference line\n",
    "axs[1].set_title(\"ROC Curve (Baseline)\", fontsize=12)\n",
    "axs[1].set_xlabel(\"False Positive Rate\")\n",
    "axs[1].set_ylabel(\"True Positive Rate\")\n",
    "axs[1].legend()\n",
    "\n",
    "# --- Precision-Recall Curve ---\n",
    "axs[2].plot(recall, precision, label=f\"AP = {average_precision_score(y_test, y_prob_baseline):.4f}\", color=colors[1])\n",
    "axs[2].set_title(\"Precision-Recall Curve (Baseline)\", fontsize=12)\n",
    "axs[2].set_xlabel(\"Recall\")\n",
    "axs[2].set_ylabel(\"Precision\")\n",
    "axs[2].legend()\n",
    "\n",
    "# Add overall title\n",
    "fig.suptitle(\"Baseline Logistic Regression Performance\", fontsize=14)\n",
    "\n",
    "plt.tight_layout()\n",
    "plt.show()"
   ]
  },
  {
   "cell_type": "markdown",
   "id": "c09030b5",
   "metadata": {},
   "source": [
    "### 🔍 Baseline Logistic Regression – Observations\n",
    "\n",
    "- **Non-Fraud (Class 0):** Almost perfect with precision = 0.9993, recall = 0.9998.  \n",
    "- **Fraud (Class 1):** Precision = 0.8267 (good), but recall = 0.5327 → **36 frauds missed**.  \n",
    "- **Overall:** Accuracy = 0.9991 (misleading due to imbalance).  \n",
    "  - ROC AUC = 0.9560 → strong separability.  \n",
    "  - PR AUC = 0.6920 → moderate detection power for rare fraud cases.  \n",
    "- **Confusion Matrix:** Low false positives (13) but non-trivial false negatives (36).  \n",
    "\n",
    "**Stepwise PR Curve:** Precision and recall only change at thresholds where samples flip classes.  \n",
    "With few frauds, each change is discrete, producing the visible stepwise shape.\n"
   ]
  },
  {
   "cell_type": "code",
   "execution_count": null,
   "id": "f12130a6",
   "metadata": {},
   "outputs": [],
   "source": []
  },
  {
   "cell_type": "markdown",
   "id": "04dbdb0e",
   "metadata": {},
   "source": [
    "#### ⚖️ Why Precision, Recall, and F1-score Matter More than Accuracy\n",
    "\n",
    "- **Accuracy is misleading** in imbalanced data (fraud ≈ 0.2%).  \n",
    "  - A model predicting *all non-fraud* gets 99.8% accuracy but detects **0 frauds**.  \n",
    "\n",
    "- **Precision (Fraud = 1):** How many flagged cases are truly fraud?  \n",
    "  - High precision → fewer false alarms, less wasted effort.  \n",
    "\n",
    "- **Recall (Fraud = 1):** How many actual frauds were caught?  \n",
    "  - High recall → fewer missed frauds, which is critical in practice.  \n",
    "\n",
    "- **F1-score (Fraud = 1):** Harmonic mean of precision and recall.  \n",
    "  - Balances catching frauds (recall) while keeping alerts credible (precision).  \n",
    "\n",
    "**🔑 Insight:** For fraud detection, **precision, recall, and F1-score on the fraud class** are far more meaningful than accuracy.  \n",
    "- Missing fraud (**low recall**) is costlier than flagging some extra transactions.  \n",
    "- Precision ensures flagged cases are credible.  \n",
    "- F1 provides a balanced single metric.\n"
   ]
  },
  {
   "cell_type": "markdown",
   "id": "8cf42a7d",
   "metadata": {},
   "source": []
  },
  {
   "cell_type": "markdown",
   "id": "c568d5c6",
   "metadata": {},
   "source": [
    "## Part B: Gaussian Mixture Model (GMM) for Synthetic Sampling"
   ]
  },
  {
   "cell_type": "markdown",
   "id": "70375bc0",
   "metadata": {},
   "source": [
    "### Part B.1: Theoretical Foundation"
   ]
  },
  {
   "cell_type": "markdown",
   "id": "3304055a",
   "metadata": {},
   "source": [
    "#### 🤖 GMM-based Synthetic Sampling vs. SMOTE\n",
    "\n",
    "**SMOTE (Synthetic Minority Over-sampling Technique):**\n",
    "- Works by selecting a minority sample and one of its nearest neighbors, then creating a synthetic point **along the line segment** between them.\n",
    "- Assumes that minority data is distributed in a relatively simple, **locally linear** structure.\n",
    "- Limitation: If the minority class actually consists of **multiple clusters or non-linear shapes**, SMOTE may generate unrealistic samples that fall in majority regions, leading to noise and overlap.\n",
    "\n",
    "**GMM-based Synthetic Sampling:**\n",
    "- Uses a **probabilistic generative model** (Gaussian Mixture Model) to approximate the minority class distribution.\n",
    "- The minority data is modeled as a **mixture of multiple Gaussian components**, each capturing a **sub-group** or local cluster.\n",
    "- New samples are generated by first sampling from the component distribution and then from its Gaussian density.\n",
    "- This means the synthetic points follow the **underlying probability density** of the minority data instead of just interpolating between neighbors.\n",
    "\n",
    "**Why GMM is theoretically better:**\n",
    "1. **Captures multimodality:**  \n",
    "   - If the minority class has distinct clusters (e.g., different fraud patterns), GMM assigns separate Gaussian components.  \n",
    "   - SMOTE cannot distinguish between clusters and may create \"bridge\" points between unrelated groups.\n",
    "\n",
    "2. **Respects data geometry:**  \n",
    "   - GMM takes into account both the **mean** and **covariance** of each subgroup, modeling orientation and spread in feature space.  \n",
    "   - SMOTE only uses Euclidean distance and ignores covariance structure.\n",
    "\n",
    "3. **Probabilistic foundation:**  \n",
    "   - GMM provides likelihoods and soft cluster memberships, giving a principled way to generate new samples.  \n",
    "   - SMOTE is heuristic-based and lacks a probabilistic interpretation.\n",
    "\n",
    "**Key Insight:**  \n",
    "- SMOTE is simple and effective when minority data is uniformly distributed and linearly separable.  \n",
    "- GMM-based sampling is **more powerful for complex, multimodal, or non-linear distributions**, making it especially suitable for problems like fraud detection where fraudulent transactions may follow different hidden patterns.\n"
   ]
  },
  {
   "cell_type": "markdown",
   "id": "61ccb665",
   "metadata": {},
   "source": []
  },
  {
   "attachments": {
    "image.png": {
     "image/png": "[encoded data removed]"
    }
   },
   "cell_type": "markdown",
   "id": "c0a2064d",
   "metadata": {},
   "source": [
    "#### 📐 Mathematical View: GMM-based Synthetic Sampling vs. SMOTE\n",
    "\n",
    "##### 1. **SMOTE (Synthetic Minority Over-sampling Technique)**\n",
    "SMOTE generates a synthetic sample by linear interpolation between a minority instance $\\ x_i$ and one of its \\(k\\)-nearest neighbors $\\ x_{nn}$:\n",
    "\n",
    "$$\n",
    "x_{\\text{new}} = x_i + \\lambda \\cdot (x_{nn} - x_i), \\quad \\lambda \\sim \\mathcal{U}(0,1)\n",
    "$$\n",
    "\n",
    "- Here, $ \\lambda $ is a random number between 0 and 1.  \n",
    "\n",
    "- The new point always lies **on the line segment** connecting $\\ x_i$  and $\\ x_{nn}$.  \n",
    "\n",
    "👉 Limitation: This assumes the minority class is locally **linear and connected**. If the minority class has multiple clusters, SMOTE may generate unrealistic points in low-density regions (between clusters).\n",
    "\n",
    "---\n",
    "![image.png](attachment:image.png)\n",
    "\n",
    "---\n",
    "##### 2. **GMM-based Synthetic Sampling**\n",
    "A Gaussian Mixture Model assumes the minority class distribution can be expressed as a weighted sum of \\(K\\) Gaussian components:\n",
    "\n",
    "$$\n",
    "p(x) = \\sum_{k=1}^{K} \\pi_k \\, \\mathcal{N}(x \\mid \\mu_k, \\Sigma_k)\n",
    "$$\n",
    "\n",
    "where:  \n",
    "- $ \\pi_k $ mixture weight of component \\(k\\), with $ \\sum_{k=1}^{K} \\pi_k = 1 $.  \n",
    "- $ \\mu_k $ = mean vector of component \\(k\\).  \n",
    "- $ \\Sigma_k $ = covariance matrix of component \\(k\\).  \n",
    "- $ \\mathcal{N}(x \\mid \\mu_k, \\Sigma_k) $ = multivariate Gaussian density.\n",
    "\n",
    "To generate a synthetic sample:  \n",
    "1. Choose a component:\n",
    "   $$\n",
    "   z \\sim \\text{Categorical}(\\pi_1, \\pi_2, \\dots, \\pi_K)\n",
    "   $$\n",
    "2. Sample from the chosen Gaussian:\n",
    "   $$\n",
    "   x_{\\text{new}} \\sim \\mathcal{N}(\\mu_z, \\Sigma_z)\n",
    "   $$\n",
    "\n",
    "👉 Advantage: The generated points follow the **estimated probability density** of the minority class, capturing **multiple clusters and complex shapes**.\n",
    "\n",
    "---\n",
    "\n",
    "##### 3. **Key Difference**\n",
    "- **SMOTE:**\n",
    "  $$\n",
    "  x_{\\text{new}} \\;\\; \\text{lies on the line between two neighbors}\n",
    "  $$\n",
    "  → May create overlapping or unrealistic samples.  \n",
    "\n",
    "- **GMM:**\n",
    "  $$\n",
    "  x_{\\text{new}} \\;\\; \\text{is drawn from a mixture of Gaussians modeling the data distribution}\n",
    "  $$\n",
    "  → Better for **multimodal, clustered, or non-linear** minority classes (e.g., different fraud types).\n"
   ]
  },
  {
   "cell_type": "code",
   "execution_count": null,
   "id": "b9b1ee64",
   "metadata": {},
   "outputs": [],
   "source": [
    "\n",
    "# --- 1. Create synthetic minority dataset with 2 clusters ---\n",
    "X, _ = make_blobs(n_samples=40, centers=[(-2, -2), (3, 3)], cluster_std=0.8, random_state=42)\n",
    "\n",
    "# --- 2. SMOTE Sampling (simple version) ---\n",
    "np.random.seed(42)\n",
    "k = 5\n",
    "nbrs = NearestNeighbors(n_neighbors=k+1).fit(X)\n",
    "indices = nbrs.kneighbors(X, return_distance=False)\n",
    "\n",
    "smote_samples = []\n",
    "for i in range(10):  # generate 10 synthetic points\n",
    "    idx = np.random.randint(0, len(X))\n",
    "    nn_idx = np.random.choice(indices[idx][1:])  # skip self\n",
    "    lam = np.random.rand()\n",
    "    new_point = X[idx] + lam * (X[nn_idx] - X[idx])\n",
    "    smote_samples.append(new_point)\n",
    "\n",
    "smote_samples = np.array(smote_samples)\n",
    "\n",
    "# --- 3. GMM Sampling ---\n",
    "gmm = GaussianMixture(n_components=2, random_state=42).fit(X)\n",
    "gmm_samples, _ = gmm.sample(10)\n",
    "\n",
    "# --- 4. Meshgrid for GMM contours ---\n",
    "x = np.linspace(X[:, 0].min() - 2, X[:, 0].max() + 2, 200)\n",
    "y = np.linspace(X[:, 1].min() - 2, X[:, 1].max() + 2, 200)\n",
    "X_grid, Y_grid = np.meshgrid(x, y)\n",
    "XX = np.array([X_grid.ravel(), Y_grid.ravel()]).T\n",
    "Z = -gmm.score_samples(XX)\n",
    "Z = Z.reshape(X_grid.shape)\n",
    "\n",
    "# --- 5. Plot ---\n",
    "fig, axs = plt.subplots(1, 2, figsize=(14, 6))\n",
    "\n",
    "# --- SMOTE with interpolation lines ---\n",
    "axs[0].scatter(X[:, 0], X[:, 1], c=\"blue\", label=\"Original Minority\")\n",
    "axs[0].scatter(smote_samples[:, 0], smote_samples[:, 1], c=\"orange\", marker=\"x\", s=80, label=\"SMOTE Synthetic\")\n",
    "\n",
    "# Draw interpolation lines\n",
    "np.random.seed(42)\n",
    "for i in range(len(smote_samples)):\n",
    "    idx = np.random.randint(0, len(X))\n",
    "    nn_idx = np.random.choice(indices[idx][1:])  # pick neighbor\n",
    "    axs[0].plot([X[idx][0], X[nn_idx][0]], [X[idx][1], X[nn_idx][1]], \n",
    "                c=\"gray\", linestyle=\"--\", alpha=0.5)\n",
    "\n",
    "axs[0].set_title(\"SMOTE: Interpolation Between Neighbors\")\n",
    "axs[0].legend()\n",
    "\n",
    "# --- GMM with density contours ---\n",
    "axs[1].scatter(X[:, 0], X[:, 1], c=\"blue\", label=\"Original Minority\")\n",
    "axs[1].scatter(gmm_samples[:, 0], gmm_samples[:, 1], c=\"green\", marker=\"x\", s=80, label=\"GMM Synthetic\")\n",
    "axs[1].contour(X_grid, Y_grid, Z, levels=15, cmap=\"viridis\", alpha=0.7)\n",
    "\n",
    "axs[1].set_title(\"GMM: Density-Based Sampling\")\n",
    "axs[1].legend()\n",
    "\n",
    "\n"
   ]
  },
  {
   "cell_type": "markdown",
   "id": "72c9b729",
   "metadata": {},
   "source": []
  },
  {
   "cell_type": "markdown",
   "id": "618c10a3",
   "metadata": {},
   "source": [
    "### Task B.2: GMM Implementation"
   ]
  },
  {
   "cell_type": "markdown",
   "id": "63462f83",
   "metadata": {},
   "source": [
    "##### Extract minority Samples for GMM"
   ]
  },
  {
   "cell_type": "markdown",
   "id": "c8f3d6b9",
   "metadata": {},
   "source": [
    "##### Explanation: Scaling Minority and Majority Classes #####\n",
    "\n",
    "We **fit the scaler on the entire training data** (X_train) to compute the global *mean* and *standard deviation*.  \n",
    "This ensures that all features are scaled **consistently across the dataset**, i.e., the *feature space* is the same for all samples.\n",
    "\n",
    "Then, we **transform the minority and majority classes separately**:  \n",
    "- X_train_min_s = scaler.transform(X_train_min)  \n",
    "- X_train_maj_s = scaler.transform(X_train_maj)\n",
    "\n",
    "**Why do this?**  \n",
    "1. **Consistent scaling:** Each feature has the same reference (*mean & std*) across both classes.  \n",
    "2. **Prevents data leakage:** Scaling separately would make the same feature have *different meanings* in different classes.  \n",
    "3. **Maintains meaningful distances and distributions** for models, especially distance-based ones like *k-NN, SVM,* or *GMM sampling*.\n",
    "\n",
    "**Summary:**  \n",
    "Fit on full data → transform subsets ensures a **consistent and unbiased feature space** while retaining **class-specific subsets** for processing.\n"
   ]
  },
  {
   "cell_type": "code",
   "execution_count": 358,
   "id": "17d1f95b",
   "metadata": {},
   "outputs": [
    {
     "name": "stdout",
     "output_type": "stream",
     "text": [
      "Minority count: 394\n",
      "Majority count: 227451\n"
     ]
    }
   ],
   "source": [
    "# --- Extract minority and majority samples from training data ---\n",
    "X_train_min = X_train[y_train == 1]   # Minority class (fraud = 1)\n",
    "X_train_maj = X_train[y_train == 0]   # Majority class (non-fraud = 0)\n",
    "\n",
    "# --- Standardize features ---\n",
    "scaler = StandardScaler()\n",
    "scaler.fit(X_train)                    # Fit on the whole training set to capture global scaling\n",
    "X_train_min_s = scaler.transform(X_train_min)  # Transform minority class\n",
    "X_train_maj_s = scaler.transform(X_train_maj)  # Transform majority class\n",
    "\n",
    "# --- Print counts for verification ---\n",
    "print(\"Minority count:\", len(X_train_min))\n",
    "print(\"Majority count:\", len(X_train_maj))\n"
   ]
  },
  {
   "cell_type": "markdown",
   "id": "fa8bce38",
   "metadata": {},
   "source": [
    "###  Model Selection using AIC and BIC\n",
    "\n",
    "When fitting probabilistic models like Gaussian Mixture Models (GMM), \n",
    "we often need to choose the number of components (clusters).  \n",
    "\n",
    "Two widely used criteria are:\n",
    "1. **Akaike Information Criterion (AIC)**\n",
    "2. **Bayesian Information Criterion (BIC)**\n",
    "\n",
    "Both penalize model complexity (number of parameters) to avoid overfitting.\n",
    "\n",
    "\n",
    "-------------------------------\n",
    "#### 1️⃣ Akaike Information Criterion (AIC)\n",
    "-------------------------------\n",
    "\n",
    "AIC = 2k - 2 * ln(L)\n",
    "\n",
    "where:\n",
    "- k = number of parameters in the model\n",
    "- L = maximum likelihood of the model\n",
    "\n",
    "Interpretation:\n",
    "- Lower AIC → better balance of fit vs complexity\n",
    "- Penalizes model complexity (more parameters) moderately\n",
    "- Useful for comparing models of different sizes\n",
    "\n",
    "\n",
    "------------------------------\n",
    "#### 2️⃣ Bayesian Information Criterion (BIC)\n",
    "-------------------------------\n",
    "\n",
    "BIC = ln(n) * k - 2 * ln(L)\n",
    "\n",
    "where:\n",
    "- n = number of data points\n",
    "- k = number of parameters in the model\n",
    "- L = maximum likelihood of the model\n",
    "\n",
    "Interpretation:\n",
    "- Lower BIC → better model\n",
    "- Penalizes model complexity more strongly than AIC (factor ln(n) instead of 2)\n",
    "- Often preferred when dataset is large"
   ]
  },
  {
   "cell_type": "code",
   "execution_count": 359,
   "id": "717776ef",
   "metadata": {},
   "outputs": [
    {
     "data": {
      "image/png": "[encoded data removed]",
      "text/plain": [
       "<Figure size 1400x600 with 1 Axes>"
      ]
     },
     "metadata": {},
     "output_type": "display_data"
    },
    {
     "name": "stdout",
     "output_type": "stream",
     "text": [
      "Best k: 3\n"
     ]
    }
   ],
   "source": [
    "# --- Model selection for Gaussian Mixture Model (GMM) ---\n",
    "\n",
    "# Range of candidate components (clusters) to evaluate\n",
    "n_components = range(1, 12)\n",
    "\n",
    "# Store BIC (Bayesian Information Criterion) and AIC (Akaike Information Criterion) values\n",
    "bics, aics = [], []\n",
    "\n",
    "# Loop over possible number of mixture components\n",
    "for k in n_components:\n",
    "    g = GaussianMixture(\n",
    "        n_components=k,        # number of Gaussian components\n",
    "        covariance_type='full',# full covariance (each cluster can have its own general covariance)\n",
    "        random_state=42\n",
    "    )\n",
    "    g.fit(X_train_min_s)       # Fit GMM on scaled minority samples\n",
    "    bics.append(g.bic(X_train_min_s))  # Compute BIC score\n",
    "    aics.append(g.aic(X_train_min_s))  # Compute AIC score\n",
    "\n",
    "# --- Plot AIC and BIC for model selection ---\n",
    "plt.figure(figsize=(14, 6))\n",
    "plt.plot(n_components, bics, marker='o', label='BIC')  # BIC curve\n",
    "plt.plot(n_components, aics, marker='o', label='AIC')  # AIC curve\n",
    "plt.xlabel(\"Number of Components\")\n",
    "plt.ylabel(\"Score (lower is better)\")  # Lower AIC/BIC → better model fit\n",
    "plt.legend()\n",
    "plt.title(\"GMM Model Selection (AIC vs BIC)\")\n",
    "plt.show()\n",
    "\n",
    "# --- Select best number of components based on minimum BIC ---\n",
    "best_k = n_components[np.argmin(bics)]\n",
    "print(\"Best k:\", best_k)\n"
   ]
  },
  {
   "cell_type": "markdown",
   "id": "174c67b0",
   "metadata": {},
   "source": [
    "#### 🔍 Observation: GMM Model Selection ####\n",
    "\n",
    "1. **Model fit improves** as the number of components increases — both BIC and AIC drop initially.  \n",
    "2. **BIC** reaches its minimum at **3 components**, then fluctuates, suggesting **3 is optimal**.  \n",
    "3. **AIC** keeps decreasing until **11 components**, favoring a more complex model.  \n",
    "4. The difference arises because **BIC penalizes complexity more heavily** than AIC.  \n",
    "\n",
    "**Summary:**  \n",
    "- **BIC → 3 components** (simpler, balanced, avoids overfitting).  \n",
    "- **AIC → 11 components** (more complex, risk of overfitting).  \n",
    "- Since our dataset has only ~500 minority samples, using **BIC’s recommendation (3 components)** is a better trade-off between fit and complexity.  \n"
   ]
  },
  {
   "cell_type": "markdown",
   "id": "a7702959",
   "metadata": {},
   "source": []
  },
  {
   "cell_type": "markdown",
   "id": "436421d0",
   "metadata": {},
   "source": [
    "### Task B.3: Synthetic Data Generation"
   ]
  },
  {
   "cell_type": "markdown",
   "id": "8d8f58af",
   "metadata": {},
   "source": [
    "#### 📊 Sampling from a Gaussian Mixture Model (GMM)\n",
    "\n",
    "A **Gaussian Mixture Model (GMM)** assumes data comes from a weighted sum of $K$ Gaussian distributions:\n",
    "\n",
    "$$\n",
    "p(x) = \\sum_{k=1}^{K} \\pi_k \\, \\mathcal{N}(x \\mid \\mu_k, \\Sigma_k)\n",
    "$$\n",
    "\n",
    "where:  \n",
    "- $\\pi_k$ = mixture weight of component $k$ ($\\sum_k \\pi_k = 1$)  \n",
    "- $\\mu_k, \\Sigma_k$ = mean and covariance of component $k$  \n",
    "- $\\mathcal{N}$ = multivariate Gaussian density  \n",
    "\n",
    "---\n",
    "\n",
    "#### 💎 **Fitting the GMM** with `gmm.fit(X_train)`\n",
    "The **Expectation–Maximization (EM)** algorithm estimates $\\{\\pi_k, \\mu_k, \\Sigma_k\\}$:\n",
    "\n",
    "- **E-step (soft assignments):**\n",
    "  $$\n",
    "  \\gamma_{ik} = \\frac{\\pi_k \\, \\mathcal{N}(x_i \\mid \\mu_k, \\Sigma_k)}{\\sum_{j=1}^K \\pi_j \\, \\mathcal{N}(x_i \\mid \\mu_j, \\Sigma_j)}\n",
    "  $$\n",
    "  → probability that point $x_i$ belongs to component $k$.\n",
    "\n",
    "- **M-step (update parameters):**\n",
    "  - Effective points in $k$: $N_k = \\sum_i \\gamma_{ik}$\n",
    "  - Update:\n",
    "    $$\n",
    "    \\pi_k = \\frac{N_k}{N}, \\quad\n",
    "    \\mu_k = \\frac{1}{N_k}\\sum_i \\gamma_{ik} x_i, \\quad\n",
    "    \\Sigma_k = \\frac{1}{N_k}\\sum_i \\gamma_{ik}(x_i - \\mu_k)(x_i - \\mu_k)^\\top\n",
    "    $$\n",
    "\n",
    "Repeat until log-likelihood converges.  \n",
    "After convergence:  \n",
    "- $\\pi_k$ ≈ proportion of data in each cluster.  \n",
    "- $\\mu_k, \\Sigma_k$ describe each Gaussian component.  \n",
    "\n",
    "---\n",
    "\n",
    "#### 🎲 **Sampling** with `gmm.sample(n)`\n",
    "Synthetic data is drawn using the learned parameters:\n",
    "\n",
    "1. **Choose component index**  \n",
    "   $$\n",
    "   k \\sim \\text{Categorical}(\\pi_1,\\dots,\\pi_K)\n",
    "   $$\n",
    "\n",
    "2. **Draw from chosen Gaussian**  \n",
    "   $$\n",
    "   x \\sim \\mathcal{N}(\\mu_k, \\Sigma_k)\n",
    "   $$\n",
    "\n",
    "3. **Repeat** until $n$ samples are generated.  \n",
    "\n",
    "👉 In scikit-learn, `GaussianMixture.sample(n)` does exactly this:  \n",
    "- Selects components according to $\\pi_k$  \n",
    "- Draws samples from $\\mathcal{N}(\\mu_k, \\Sigma_k)$  \n",
    "- Returns both samples and their component labels.  \n",
    "\n",
    "---\n",
    "\n",
    "#### ✅ Key Takeaways\n",
    "- EM alternates between **soft clustering** (E-step) and **parameter re-estimation** (M-step).  \n",
    "- Responsibilities $\\gamma_{ik}$ let clusters share points, unlike hard clustering.  \n",
    "- Mixture weights $\\pi_k$ govern how often each component is chosen when generating new samples.  \n",
    "- Sampling from GMM ensures new data follows the **true multimodal density** of the fitted distribution.  \n"
   ]
  },
  {
   "cell_type": "code",
   "execution_count": 306,
   "id": "b70a7a39",
   "metadata": {},
   "outputs": [
    {
     "name": "stdout",
     "output_type": "stream",
     "text": [
      "Synthetic samples generated: (5000, 31)\n"
     ]
    }
   ],
   "source": [
    "# -----------------------------\n",
    "# Fit GMM on minority class with best number of components\n",
    "# -----------------------------\n",
    "gmm = GaussianMixture(n_components=best_k, covariance_type='full', random_state=42)\n",
    "gmm.fit(X_train_min_s)  # Fit on scaled minority class data\n",
    "\n",
    "num_samples = 5000  # Number of synthetic samples to generate\n",
    "\n",
    "# -----------------------------\n",
    "# Generate synthetic minority samples\n",
    "# -----------------------------\n",
    "X_synth_s, labels = gmm.sample(num_samples)           # Samples in scaled space\n",
    "X_synth = scaler.inverse_transform(X_synth_s)        # Transform back to original scale\n",
    "df_synth = pd.DataFrame(X_synth, columns=X_train.columns)\n",
    "df_synth['Class'] = 1  # Assign minority class label\n",
    "\n",
    "# Check shape of synthetic dataset\n",
    "print(\"Synthetic samples generated:\", df_synth.shape)"
   ]
  },
  {
   "cell_type": "code",
   "execution_count": 307,
   "id": "7aaf590b",
   "metadata": {},
   "outputs": [
    {
     "data": {
      "text/html": [
       "<div>\n",
       "<style scoped>\n",
       "    .dataframe tbody tr th:only-of-type {\n",
       "        vertical-align: middle;\n",
       "    }\n",
       "\n",
       "    .dataframe tbody tr th {\n",
       "        vertical-align: top;\n",
       "    }\n",
       "\n",
       "    .dataframe thead th {\n",
       "        text-align: right;\n",
       "    }\n",
       "</style>\n",
       "<table border=\"1\" class=\"dataframe\">\n",
       "  <thead>\n",
       "    <tr style=\"text-align: right;\">\n",
       "      <th></th>\n",
       "      <th>Time</th>\n",
       "      <th>V1</th>\n",
       "      <th>V2</th>\n",
       "      <th>V3</th>\n",
       "      <th>V4</th>\n",
       "      <th>V5</th>\n",
       "      <th>V6</th>\n",
       "      <th>V7</th>\n",
       "      <th>V8</th>\n",
       "      <th>V9</th>\n",
       "      <th>...</th>\n",
       "      <th>V21</th>\n",
       "      <th>V22</th>\n",
       "      <th>V23</th>\n",
       "      <th>V24</th>\n",
       "      <th>V25</th>\n",
       "      <th>V26</th>\n",
       "      <th>V27</th>\n",
       "      <th>V28</th>\n",
       "      <th>Amount</th>\n",
       "      <th>Class</th>\n",
       "    </tr>\n",
       "  </thead>\n",
       "  <tbody>\n",
       "    <tr>\n",
       "      <th>1047</th>\n",
       "      <td>120042.200529</td>\n",
       "      <td>-23.504142</td>\n",
       "      <td>13.721485</td>\n",
       "      <td>-24.937177</td>\n",
       "      <td>9.283032</td>\n",
       "      <td>-20.267747</td>\n",
       "      <td>-0.971966</td>\n",
       "      <td>-24.897642</td>\n",
       "      <td>-0.762850</td>\n",
       "      <td>-6.525701</td>\n",
       "      <td>...</td>\n",
       "      <td>-3.752163</td>\n",
       "      <td>2.690144</td>\n",
       "      <td>0.662355</td>\n",
       "      <td>1.102245</td>\n",
       "      <td>-1.319199</td>\n",
       "      <td>-0.841365</td>\n",
       "      <td>-4.856774</td>\n",
       "      <td>-1.289715</td>\n",
       "      <td>321.184425</td>\n",
       "      <td>1</td>\n",
       "    </tr>\n",
       "    <tr>\n",
       "      <th>3909</th>\n",
       "      <td>77235.877117</td>\n",
       "      <td>-4.326214</td>\n",
       "      <td>3.401904</td>\n",
       "      <td>-4.830130</td>\n",
       "      <td>0.253518</td>\n",
       "      <td>-1.038367</td>\n",
       "      <td>0.469500</td>\n",
       "      <td>-4.961061</td>\n",
       "      <td>-8.525416</td>\n",
       "      <td>-0.553654</td>\n",
       "      <td>...</td>\n",
       "      <td>6.439400</td>\n",
       "      <td>-1.623127</td>\n",
       "      <td>0.870629</td>\n",
       "      <td>-0.255861</td>\n",
       "      <td>0.717356</td>\n",
       "      <td>0.384561</td>\n",
       "      <td>0.398884</td>\n",
       "      <td>0.130074</td>\n",
       "      <td>133.891154</td>\n",
       "      <td>1</td>\n",
       "    </tr>\n",
       "    <tr>\n",
       "      <th>760</th>\n",
       "      <td>47813.070895</td>\n",
       "      <td>-5.129811</td>\n",
       "      <td>5.237137</td>\n",
       "      <td>-12.792931</td>\n",
       "      <td>7.526271</td>\n",
       "      <td>-8.491230</td>\n",
       "      <td>-6.168288</td>\n",
       "      <td>-0.513065</td>\n",
       "      <td>25.564309</td>\n",
       "      <td>-2.311889</td>\n",
       "      <td>...</td>\n",
       "      <td>11.087207</td>\n",
       "      <td>-2.325732</td>\n",
       "      <td>1.136897</td>\n",
       "      <td>-0.056373</td>\n",
       "      <td>2.335521</td>\n",
       "      <td>0.809748</td>\n",
       "      <td>3.273551</td>\n",
       "      <td>0.555710</td>\n",
       "      <td>51.472230</td>\n",
       "      <td>1</td>\n",
       "    </tr>\n",
       "    <tr>\n",
       "      <th>4267</th>\n",
       "      <td>123506.153213</td>\n",
       "      <td>-0.565420</td>\n",
       "      <td>2.037078</td>\n",
       "      <td>-7.027868</td>\n",
       "      <td>5.462105</td>\n",
       "      <td>-2.064697</td>\n",
       "      <td>-1.755422</td>\n",
       "      <td>-2.181062</td>\n",
       "      <td>2.389292</td>\n",
       "      <td>-2.342847</td>\n",
       "      <td>...</td>\n",
       "      <td>-0.175677</td>\n",
       "      <td>-0.228007</td>\n",
       "      <td>-0.377009</td>\n",
       "      <td>-0.138503</td>\n",
       "      <td>-0.157152</td>\n",
       "      <td>0.287314</td>\n",
       "      <td>1.809897</td>\n",
       "      <td>-0.974575</td>\n",
       "      <td>69.907027</td>\n",
       "      <td>1</td>\n",
       "    </tr>\n",
       "    <tr>\n",
       "      <th>190</th>\n",
       "      <td>126419.267663</td>\n",
       "      <td>0.331899</td>\n",
       "      <td>0.293151</td>\n",
       "      <td>2.374490</td>\n",
       "      <td>2.161965</td>\n",
       "      <td>3.273911</td>\n",
       "      <td>1.363520</td>\n",
       "      <td>2.645991</td>\n",
       "      <td>-1.591329</td>\n",
       "      <td>0.579643</td>\n",
       "      <td>...</td>\n",
       "      <td>-1.017280</td>\n",
       "      <td>0.890256</td>\n",
       "      <td>0.365494</td>\n",
       "      <td>0.343896</td>\n",
       "      <td>-0.313056</td>\n",
       "      <td>0.032950</td>\n",
       "      <td>-0.318022</td>\n",
       "      <td>-0.837993</td>\n",
       "      <td>-323.455419</td>\n",
       "      <td>1</td>\n",
       "    </tr>\n",
       "  </tbody>\n",
       "</table>\n",
       "<p>5 rows × 31 columns</p>\n",
       "</div>"
      ],
      "text/plain": [
       "               Time         V1         V2         V3        V4         V5  \\\n",
       "1047  120042.200529 -23.504142  13.721485 -24.937177  9.283032 -20.267747   \n",
       "3909   77235.877117  -4.326214   3.401904  -4.830130  0.253518  -1.038367   \n",
       "760    47813.070895  -5.129811   5.237137 -12.792931  7.526271  -8.491230   \n",
       "4267  123506.153213  -0.565420   2.037078  -7.027868  5.462105  -2.064697   \n",
       "190   126419.267663   0.331899   0.293151   2.374490  2.161965   3.273911   \n",
       "\n",
       "            V6         V7         V8        V9  ...        V21       V22  \\\n",
       "1047 -0.971966 -24.897642  -0.762850 -6.525701  ...  -3.752163  2.690144   \n",
       "3909  0.469500  -4.961061  -8.525416 -0.553654  ...   6.439400 -1.623127   \n",
       "760  -6.168288  -0.513065  25.564309 -2.311889  ...  11.087207 -2.325732   \n",
       "4267 -1.755422  -2.181062   2.389292 -2.342847  ...  -0.175677 -0.228007   \n",
       "190   1.363520   2.645991  -1.591329  0.579643  ...  -1.017280  0.890256   \n",
       "\n",
       "           V23       V24       V25       V26       V27       V28      Amount  \\\n",
       "1047  0.662355  1.102245 -1.319199 -0.841365 -4.856774 -1.289715  321.184425   \n",
       "3909  0.870629 -0.255861  0.717356  0.384561  0.398884  0.130074  133.891154   \n",
       "760   1.136897 -0.056373  2.335521  0.809748  3.273551  0.555710   51.472230   \n",
       "4267 -0.377009 -0.138503 -0.157152  0.287314  1.809897 -0.974575   69.907027   \n",
       "190   0.365494  0.343896 -0.313056  0.032950 -0.318022 -0.837993 -323.455419   \n",
       "\n",
       "      Class  \n",
       "1047      1  \n",
       "3909      1  \n",
       "760       1  \n",
       "4267      1  \n",
       "190       1  \n",
       "\n",
       "[5 rows x 31 columns]"
      ]
     },
     "execution_count": 307,
     "metadata": {},
     "output_type": "execute_result"
    }
   ],
   "source": [
    "# -----------------------------\n",
    "# Peek into generated synthetic minority samples\n",
    "# -----------------------------\n",
    "# Display 5 random samples from the synthetic dataset\n",
    "df_synth.sample(5)"
   ]
  },
  {
   "cell_type": "markdown",
   "id": "a4239105",
   "metadata": {},
   "source": [
    "### Task B.3.1: Model Training using GMM generated samples and original data"
   ]
  },
  {
   "cell_type": "code",
   "execution_count": 304,
   "id": "477b6b14",
   "metadata": {},
   "outputs": [],
   "source": [
    "# -----------------------------\n",
    "# Custom GMM Oversampler + Logistic Regression Wrapper\n",
    "# -----------------------------\n",
    "class InteractiveGMMOversamplerClassifier(BaseEstimator, ClassifierMixin):\n",
    "    def __init__(self, n_components=3, num_samples=5000, C=1.0, penalty='l2', solver='liblinear'):\n",
    "        \"\"\"\n",
    "        Parameters:\n",
    "        - n_components: int, number of GMM components for minority sampling\n",
    "        - num_samples: int, number of synthetic minority samples to generate\n",
    "        - C: float, logistic regression regularization strength\n",
    "        - penalty: str, regularization type ('l1' or 'l2')\n",
    "        - solver: str, logistic regression solver\n",
    "        \"\"\"\n",
    "        self.n_components = n_components\n",
    "        self.num_samples = num_samples\n",
    "        self.C = C\n",
    "        self.penalty = penalty\n",
    "        self.solver = solver\n",
    "    \n",
    "    def fit(self, X, y):\n",
    "        print(f\"\\nTraining with parameters: n_components={self.n_components}, \"\n",
    "              f\"num_samples={self.num_samples}, C={self.C}, \"\n",
    "              f\"penalty={self.penalty}, solver={self.solver}\")\n",
    "\n",
    "        # -----------------------------\n",
    "        # Scale entire training data for consistent GMM fitting\n",
    "        # -----------------------------\n",
    "        self.scaler = StandardScaler()\n",
    "        self.scaler.fit(X)\n",
    "        \n",
    "        # Split into minority and majority\n",
    "        X_min = X[y==1]\n",
    "        X_maj = X[y==0]\n",
    "\n",
    "        # Transform minority class for GMM fitting\n",
    "        X_min_s = self.scaler.transform(X_min)\n",
    "        \n",
    "        # -----------------------------\n",
    "        # Fit Gaussian Mixture Model on minority class\n",
    "        # -----------------------------\n",
    "        gmm = GaussianMixture(n_components=self.n_components, covariance_type='full', random_state=42)\n",
    "        gmm.fit(X_min_s)\n",
    "        \n",
    "        # -----------------------------\n",
    "        # Generate synthetic minority samples in batches\n",
    "        # -----------------------------\n",
    "        X_synth_list = []\n",
    "        batch_size = 1000\n",
    "        n_batches = self.num_samples // batch_size\n",
    "        print(\"Generating synthetic samples:\")\n",
    "        for _ in tqdm(range(n_batches)):\n",
    "            X_synth_s_batch, _ = gmm.sample(batch_size)\n",
    "            X_synth_list.append(X_synth_s_batch)\n",
    "        remaining = self.num_samples % batch_size\n",
    "        if remaining > 0:\n",
    "            X_synth_s_batch, _ = gmm.sample(remaining)\n",
    "            X_synth_list.append(X_synth_s_batch)\n",
    "        \n",
    "        X_synth_s = np.vstack(X_synth_list)\n",
    "        # Transform back to original feature scale\n",
    "        X_synth = self.scaler.inverse_transform(X_synth_s)\n",
    "        df_synth = pd.DataFrame(X_synth, columns=X.columns)\n",
    "        \n",
    "        # -----------------------------\n",
    "        # Combine original minority + synthetic samples\n",
    "        # -----------------------------\n",
    "        X_min_aug = pd.concat([X_min, df_synth], axis=0)\n",
    "        y_min_aug = pd.Series([1]*len(X_min_aug))\n",
    "        \n",
    "        # Combine with majority class\n",
    "        X_aug = pd.concat([X_min_aug, X_maj], axis=0)\n",
    "        y_aug = pd.concat([y_min_aug, pd.Series([0]*len(X_maj))], axis=0)\n",
    "        \n",
    "        # -----------------------------\n",
    "        # Scale the augmented dataset for Logistic Regression\n",
    "        # -----------------------------\n",
    "        self.lr_scaler = StandardScaler()\n",
    "        X_aug_scaled = self.lr_scaler.fit_transform(X_aug)\n",
    "        \n",
    "        # -----------------------------\n",
    "        # Fit Logistic Regression on augmented data\n",
    "        # -----------------------------\n",
    "        self.lr = LogisticRegression(C=self.C, penalty=self.penalty, solver=self.solver,\n",
    "                                     max_iter=5000, random_state=42)\n",
    "        self.lr.fit(X_aug_scaled, y_aug)\n",
    "        return self\n",
    "    \n",
    "    def predict(self, X):\n",
    "        \"\"\"\n",
    "        Predict class labels for input X\n",
    "        \"\"\"\n",
    "        X_scaled = self.lr_scaler.transform(X)\n",
    "        return self.lr.predict(X_scaled)\n"
   ]
  },
  {
   "cell_type": "code",
   "execution_count": 46,
   "id": "12a1427b",
   "metadata": {},
   "outputs": [
    {
     "name": "stdout",
     "output_type": "stream",
     "text": [
      "Fitting 3 folds for each of 144 candidates, totalling 432 fits\n",
      "\n",
      "Training with parameters: n_components=3, num_samples=5000, C=0.01, penalty=l1, solver=saga\n",
      "Generating synthetic samples:\n"
     ]
    },
    {
     "name": "stderr",
     "output_type": "stream",
     "text": [
      "100%|██████████| 5/5 [00:00<00:00, 214.53it/s]\n"
     ]
    },
    {
     "name": "stdout",
     "output_type": "stream",
     "text": [
      "\n",
      "Best Parameters: {'C': 0.01, 'n_components': 3, 'num_samples': 5000, 'penalty': 'l1', 'solver': 'saga'}\n",
      "\n",
      "Classification Report:\n",
      "               precision    recall  f1-score   support\n",
      "\n",
      "           0       1.00      1.00      1.00     56864\n",
      "           1       0.72      0.85      0.78        98\n",
      "\n",
      "    accuracy                           1.00     56962\n",
      "   macro avg       0.86      0.92      0.89     56962\n",
      "weighted avg       1.00      1.00      1.00     56962\n",
      "\n"
     ]
    }
   ],
   "source": [
    "# -----------------------------\n",
    "# Hyperparameter grid\n",
    "# -----------------------------\n",
    "param_grid = {\n",
    "    'n_components': [3, 5, 7],              # GMM components\n",
    "    'num_samples': [5000, 10000, 20000],   # synthetic minority points\n",
    "    'C': [0.01, 0.1, 1, 10],               # Logistic Regression regularization\n",
    "    'penalty': ['l1', 'l2'],               # LR penalties\n",
    "    'solver': ['liblinear', 'saga']        # solvers compatible with both penalties\n",
    "}\n",
    "\n",
    "gmm_lr = InteractiveGMMOversamplerClassifier()\n",
    "grid = GridSearchCV(gmm_lr, param_grid, scoring='f1', cv=3, n_jobs=-1, verbose=3)  # verbose=3 for detailed progress\n",
    "grid.fit(X_train, y_train)\n",
    "\n",
    "y_pred_gmm = grid.predict(X_test)\n",
    "print(\"\\nBest Parameters:\", grid.best_params_)\n",
    "print(\"\\nClassification Report:\\n\", classification_report(y_test, y_pred_gmm))\n"
   ]
  },
  {
   "cell_type": "code",
   "execution_count": 326,
   "id": "e588373f",
   "metadata": {},
   "outputs": [
    {
     "name": "stdout",
     "output_type": "stream",
     "text": [
      "\n",
      "Best Parameters: {'C': 0.01, 'maj_ratio': 15, 'n_clusters': 100, 'num_minority_samples': 10000, 'penalty': 'l1', 'solver': 'liblinear'}\n",
      "\n",
      "Classification Report:\n",
      "               precision    recall  f1-score   support\n",
      "\n",
      "           0       1.00      1.00      1.00     56864\n",
      "           1       0.64      0.87      0.74        98\n",
      "\n",
      "    accuracy                           1.00     56962\n",
      "   macro avg       0.82      0.93      0.87     56962\n",
      "weighted avg       1.00      1.00      1.00     56962\n",
      "\n"
     ]
    },
    {
     "data": {
      "image/png": "[encoded data removed]",
      "text/plain": [
       "<Figure size 1200x900 with 4 Axes>"
      ]
     },
     "metadata": {},
     "output_type": "display_data"
    }
   ],
   "source": [
    "\n",
    "# --- GMM Predictions ---\n",
    "y_pred_gmm = grid.predict(X_test)\n",
    "print(\"\\nBest Parameters:\", grid.best_params_)\n",
    "print(\"\\nClassification Report:\\n\", classification_report(y_test, y_pred_gmm))\n",
    "\n",
    "# Probabilities for curves\n",
    "if hasattr(grid, \"predict_proba\"):\n",
    "    y_prob_gmm = grid.predict_proba(X_test)[:, 1]\n",
    "else:\n",
    "    y_prob_gmm = y_pred_gmm  # fallback\n",
    "\n",
    "# -----------------------------\n",
    "# Compute metrics\n",
    "# -----------------------------\n",
    "from sklearn.metrics import precision_recall_fscore_support\n",
    "\n",
    "fpr, tpr, _ = roc_curve(y_test, y_prob_gmm)\n",
    "precision_curve, recall_curve, _ = precision_recall_curve(y_test, y_prob_gmm)\n",
    "cm = confusion_matrix(y_test, y_pred_gmm)\n",
    "\n",
    "# Add percentages to confusion matrix\n",
    "cm_sum = cm.sum()\n",
    "cm_percent = cm / cm_sum * 100\n",
    "annot = np.empty_like(cm).astype(str)\n",
    "for i in range(cm.shape[0]):\n",
    "    for j in range(cm.shape[1]):\n",
    "        annot[i, j] = f\"{cm[i, j]}\\n({cm_percent[i, j]:.2f}%)\"\n",
    "\n",
    "# Precision, Recall, F1 for minority class (fraud = 1)\n",
    "p, r, f, _ = precision_recall_fscore_support(y_test, y_pred_gmm, labels=[1])\n",
    "metrics_scores = {\"Precision\": p[0], \"Recall\": r[0], \"F1-score\": f[0]}\n",
    "\n",
    "# Color-blind friendly palette\n",
    "colors = sns.color_palette(\"colorblind\")\n",
    "\n",
    "# -----------------------------\n",
    "# Create 2x2 subplot layout\n",
    "# -----------------------------\n",
    "fig, axs = plt.subplots(2, 2, figsize=(12, 9))\n",
    "\n",
    "# --- 1. Confusion Matrix Heatmap ---\n",
    "sns.heatmap(\n",
    "    cm, annot=annot, fmt=\"\", cmap=\"crest\", cbar=False, ax=axs[0, 0],\n",
    "    xticklabels=[\"0 = Non-Fraud\", \"1 = Fraud\"],\n",
    "    yticklabels=[\"0 = Non-Fraud\", \"1 = Fraud\"]\n",
    ")\n",
    "axs[0, 0].set_title(\"Confusion Matrix (GMM)\", fontsize=12)\n",
    "axs[0, 0].set_xlabel(\"Predicted Label\")\n",
    "axs[0, 0].set_ylabel(\"True Label\")\n",
    "\n",
    "# --- 2. Precision, Recall, F1 Bar Chart ---\n",
    "axs[0, 1].bar(metrics_scores.keys(), metrics_scores.values(),\n",
    "              color=colors[:3])\n",
    "axs[0, 1].set_ylim(0, 1)\n",
    "axs[0, 1].set_title(\"Minority Class Metrics\", fontsize=12)\n",
    "axs[0, 1].set_ylabel(\"Score\")\n",
    "# Annotate values above bars\n",
    "for i, (metric, val) in enumerate(metrics_scores.items()):\n",
    "    axs[0, 1].text(i, val + 0.02, f\"{val:.3f}\", ha='center', fontsize=10)\n",
    "\n",
    "# --- 3. ROC Curve ---\n",
    "axs[1, 0].plot(fpr, tpr, label=f\"AUC = {auc(fpr, tpr):.4f}\", color=colors[0])\n",
    "axs[1, 0].plot([0, 1], [0, 1], '--', color=\"gray\", alpha=0.7)\n",
    "axs[1, 0].set_title(\"ROC Curve (GMM)\", fontsize=12)\n",
    "axs[1, 0].set_xlabel(\"False Positive Rate\")\n",
    "axs[1, 0].set_ylabel(\"True Positive Rate\")\n",
    "axs[1, 0].legend()\n",
    "\n",
    "# --- 4. Precision-Recall Curve ---\n",
    "axs[1, 1].step(recall_curve, precision_curve, where='post',\n",
    "               label=f\"AP = {average_precision_score(y_test, y_prob_gmm):.4f}\",\n",
    "               color=colors[1])\n",
    "axs[1, 1].set_title(\"Precision-Recall Curve (GMM)\", fontsize=12)\n",
    "axs[1, 1].set_xlabel(\"Recall\")\n",
    "axs[1, 1].set_ylabel(\"Precision\")\n",
    "axs[1, 1].legend()\n",
    "\n",
    "# -----------------------------\n",
    "# Layout adjustments\n",
    "# -----------------------------\n",
    "fig.suptitle(\"GMM Classifier Performance\", fontsize=14, y=1.02)\n",
    "plt.tight_layout(rect=[0, 0, 1, 0.97])\n",
    "plt.show()"
   ]
  },
  {
   "cell_type": "markdown",
   "id": "0c5d0741",
   "metadata": {},
   "source": [
    "#### 🔎 Observation: GMM Classifier Performance\n",
    "\n",
    "**Confusion Matrix:**\n",
    "- Majority class (Non-Fraud): **56,817 correct**, 47 misclassified → almost perfect detection.\n",
    "- Minority class (Fraud): **85 correct**, 13 misclassified → most fraud cases are caught, but some are missed.\n",
    "- Overall: Model handles class imbalance well, but there are still both **false positives** and **false negatives** in the fraud class.\n",
    "\n",
    "**ROC Curve:**\n",
    "- **AUC = 0.9742** → indicates excellent separability between fraud and non-fraud.\n",
    "- Strong ranking ability: most fraud cases are scored higher than non-fraud.\n",
    "\n",
    "**Precision-Recall Curve:**\n",
    "- **AP = 0.7385** → reflects good balance between precision and recall.\n",
    "- Recall remains **high (>0.8)** across a wide range of thresholds.\n",
    "- Precision declines at higher recall values → highlights the **trade-off** between catching more frauds (recall) vs. increasing false alarms (lower precision).\n",
    "\n",
    "**Summary:**\n",
    "- Majority class is identified with **near-perfect accuracy**.\n",
    "- Minority class detection is **strong in recall**, but **precision is moderate** due to false positives.\n",
    "- Both **ROC AUC** and **AP** confirm that the GMM-based model achieves **strong overall discriminative performance**.\n"
   ]
  },
  {
   "cell_type": "markdown",
   "id": "6e7556da",
   "metadata": {},
   "source": []
  },
  {
   "cell_type": "markdown",
   "id": "58df9d5c",
   "metadata": {},
   "source": [
    "### Task B.4: Rebalancing with CBU"
   ]
  },
  {
   "cell_type": "markdown",
   "id": "3ba32477",
   "metadata": {},
   "source": [
    "#### Task B.4.1:Finding Number of Clusters using Different Metrics"
   ]
  },
  {
   "cell_type": "markdown",
   "id": "46814b02",
   "metadata": {},
   "source": [
    "##### 1. Silhouette Score"
   ]
  },
  {
   "cell_type": "code",
   "execution_count": null,
   "id": "d5d0c6a6",
   "metadata": {},
   "outputs": [
    {
     "name": "stdout",
     "output_type": "stream",
     "text": [
      "Evaluating silhouette scores for candidate cluster numbers...\n",
      "n_clusters=30, Silhouette Score=0.0641\n",
      "n_clusters=50, Silhouette Score=0.0750\n",
      "n_clusters=70, Silhouette Score=0.0748\n",
      "n_clusters=90, Silhouette Score=0.0794\n",
      "n_clusters=110, Silhouette Score=0.0804\n",
      "n_clusters=130, Silhouette Score=0.0822\n",
      "n_clusters=150, Silhouette Score=0.0864\n",
      "\n",
      "Best number of clusters for CBU (max silhouette score): 150\n"
     ]
    },
    {
     "data": {
      "application/vnd.plotly.v1+json": {
       "config": {
        "plotlyServerURL": "https://plot.ly"
       },
       "data": [
        {
         "line": {
          "color": "blue",
          "dash": "dash"
         },
         "marker": {
          "color": "blue",
          "size": 10
         },
         "mode": "lines+markers",
         "name": "Silhouette Score",
         "type": "scatter",
         "x": [
          30,
          50,
          70,
          90,
          110,
          130,
          150
         ],
         "y": [
          0.06410797275469875,
          0.07499163688308551,
          0.07481979720694626,
          0.07944026576695476,
          0.08044294973306933,
          0.0821527968189668,
          0.08638453266779719
         ]
        },
        {
         "line": {
          "color": "orange",
          "dash": "dot"
         },
         "mode": "lines",
         "name": "Best k=150",
         "type": "scatter",
         "x": [
          150,
          150
         ],
         "y": [
          0,
          0.08638453266779719
         ]
        }
       ],
       "layout": {
        "legend": {
         "x": 0.7,
         "y": 0.95
        },
        "template": {
         "data": {
          "bar": [
           {
            "error_x": {
             "color": "#2a3f5f"
            },
            "error_y": {
             "color": "#2a3f5f"
            },
            "marker": {
             "line": {
              "color": "white",
              "width": 0.5
             },
             "pattern": {
              "fillmode": "overlay",
              "size": 10,
              "solidity": 0.2
             }
            },
            "type": "bar"
           }
          ],
          "barpolar": [
           {
            "marker": {
             "line": {
              "color": "white",
              "width": 0.5
             },
             "pattern": {
              "fillmode": "overlay",
              "size": 10,
              "solidity": 0.2
             }
            },
            "type": "barpolar"
           }
          ],
          "carpet": [
           {
            "aaxis": {
             "endlinecolor": "#2a3f5f",
             "gridcolor": "#C8D4E3",
             "linecolor": "#C8D4E3",
             "minorgridcolor": "#C8D4E3",
             "startlinecolor": "#2a3f5f"
            },
            "baxis": {
             "endlinecolor": "#2a3f5f",
             "gridcolor": "#C8D4E3",
             "linecolor": "#C8D4E3",
             "minorgridcolor": "#C8D4E3",
             "startlinecolor": "#2a3f5f"
            },
            "type": "carpet"
           }
          ],
          "choropleth": [
           {
            "colorbar": {
             "outlinewidth": 0,
             "ticks": ""
            },
            "type": "choropleth"
           }
          ],
          "contour": [
           {
            "colorbar": {
             "outlinewidth": 0,
             "ticks": ""
            },
            "colorscale": [
             [
              0,
              "#0d0887"
             ],
             [
              0.1111111111111111,
              "#46039f"
             ],
             [
              0.2222222222222222,
              "#7201a8"
             ],
             [
              0.3333333333333333,
              "#9c179e"
             ],
             [
              0.4444444444444444,
              "#bd3786"
             ],
             [
              0.5555555555555556,
              "#d8576b"
             ],
             [
              0.6666666666666666,
              "#ed7953"
             ],
             [
              0.7777777777777778,
              "#fb9f3a"
             ],
             [
              0.8888888888888888,
              "#fdca26"
             ],
             [
              1,
              "#f0f921"
             ]
            ],
            "type": "contour"
           }
          ],
          "contourcarpet": [
           {
            "colorbar": {
             "outlinewidth": 0,
             "ticks": ""
            },
            "type": "contourcarpet"
           }
          ],
          "heatmap": [
           {
            "colorbar": {
             "outlinewidth": 0,
             "ticks": ""
            },
            "colorscale": [
             [
              0,
              "#0d0887"
             ],
             [
              0.1111111111111111,
              "#46039f"
             ],
             [
              0.2222222222222222,
              "#7201a8"
             ],
             [
              0.3333333333333333,
              "#9c179e"
             ],
             [
              0.4444444444444444,
              "#bd3786"
             ],
             [
              0.5555555555555556,
              "#d8576b"
             ],
             [
              0.6666666666666666,
              "#ed7953"
             ],
             [
              0.7777777777777778,
              "#fb9f3a"
             ],
             [
              0.8888888888888888,
              "#fdca26"
             ],
             [
              1,
              "#f0f921"
             ]
            ],
            "type": "heatmap"
           }
          ],
          "histogram": [
           {
            "marker": {
             "pattern": {
              "fillmode": "overlay",
              "size": 10,
              "solidity": 0.2
             }
            },
            "type": "histogram"
           }
          ],
          "histogram2d": [
           {
            "colorbar": {
             "outlinewidth": 0,
             "ticks": ""
            },
            "colorscale": [
             [
              0,
              "#0d0887"
             ],
             [
              0.1111111111111111,
              "#46039f"
             ],
             [
              0.2222222222222222,
              "#7201a8"
             ],
             [
              0.3333333333333333,
              "#9c179e"
             ],
             [
              0.4444444444444444,
              "#bd3786"
             ],
             [
              0.5555555555555556,
              "#d8576b"
             ],
             [
              0.6666666666666666,
              "#ed7953"
             ],
             [
              0.7777777777777778,
              "#fb9f3a"
             ],
             [
              0.8888888888888888,
              "#fdca26"
             ],
             [
              1,
              "#f0f921"
             ]
            ],
            "type": "histogram2d"
           }
          ],
          "histogram2dcontour": [
           {
            "colorbar": {
             "outlinewidth": 0,
             "ticks": ""
            },
            "colorscale": [
             [
              0,
              "#0d0887"
             ],
             [
              0.1111111111111111,
              "#46039f"
             ],
             [
              0.2222222222222222,
              "#7201a8"
             ],
             [
              0.3333333333333333,
              "#9c179e"
             ],
             [
              0.4444444444444444,
              "#bd3786"
             ],
             [
              0.5555555555555556,
              "#d8576b"
             ],
             [
              0.6666666666666666,
              "#ed7953"
             ],
             [
              0.7777777777777778,
              "#fb9f3a"
             ],
             [
              0.8888888888888888,
              "#fdca26"
             ],
             [
              1,
              "#f0f921"
             ]
            ],
            "type": "histogram2dcontour"
           }
          ],
          "mesh3d": [
           {
            "colorbar": {
             "outlinewidth": 0,
             "ticks": ""
            },
            "type": "mesh3d"
           }
          ],
          "parcoords": [
           {
            "line": {
             "colorbar": {
              "outlinewidth": 0,
              "ticks": ""
             }
            },
            "type": "parcoords"
           }
          ],
          "pie": [
           {
            "automargin": true,
            "type": "pie"
           }
          ],
          "scatter": [
           {
            "fillpattern": {
             "fillmode": "overlay",
             "size": 10,
             "solidity": 0.2
            },
            "type": "scatter"
           }
          ],
          "scatter3d": [
           {
            "line": {
             "colorbar": {
              "outlinewidth": 0,
              "ticks": ""
             }
            },
            "marker": {
             "colorbar": {
              "outlinewidth": 0,
              "ticks": ""
             }
            },
            "type": "scatter3d"
           }
          ],
          "scattercarpet": [
           {
            "marker": {
             "colorbar": {
              "outlinewidth": 0,
              "ticks": ""
             }
            },
            "type": "scattercarpet"
           }
          ],
          "scattergeo": [
           {
            "marker": {
             "colorbar": {
              "outlinewidth": 0,
              "ticks": ""
             }
            },
            "type": "scattergeo"
           }
          ],
          "scattergl": [
           {
            "marker": {
             "colorbar": {
              "outlinewidth": 0,
              "ticks": ""
             }
            },
            "type": "scattergl"
           }
          ],
          "scattermap": [
           {
            "marker": {
             "colorbar": {
              "outlinewidth": 0,
              "ticks": ""
             }
            },
            "type": "scattermap"
           }
          ],
          "scattermapbox": [
           {
            "marker": {
             "colorbar": {
              "outlinewidth": 0,
              "ticks": ""
             }
            },
            "type": "scattermapbox"
           }
          ],
          "scatterpolar": [
           {
            "marker": {
             "colorbar": {
              "outlinewidth": 0,
              "ticks": ""
             }
            },
            "type": "scatterpolar"
           }
          ],
          "scatterpolargl": [
           {
            "marker": {
             "colorbar": {
              "outlinewidth": 0,
              "ticks": ""
             }
            },
            "type": "scatterpolargl"
           }
          ],
          "scatterternary": [
           {
            "marker": {
             "colorbar": {
              "outlinewidth": 0,
              "ticks": ""
             }
            },
            "type": "scatterternary"
           }
          ],
          "surface": [
           {
            "colorbar": {
             "outlinewidth": 0,
             "ticks": ""
            },
            "colorscale": [
             [
              0,
              "#0d0887"
             ],
             [
              0.1111111111111111,
              "#46039f"
             ],
             [
              0.2222222222222222,
              "#7201a8"
             ],
             [
              0.3333333333333333,
              "#9c179e"
             ],
             [
              0.4444444444444444,
              "#bd3786"
             ],
             [
              0.5555555555555556,
              "#d8576b"
             ],
             [
              0.6666666666666666,
              "#ed7953"
             ],
             [
              0.7777777777777778,
              "#fb9f3a"
             ],
             [
              0.8888888888888888,
              "#fdca26"
             ],
             [
              1,
              "#f0f921"
             ]
            ],
            "type": "surface"
           }
          ],
          "table": [
           {
            "cells": {
             "fill": {
              "color": "#EBF0F8"
             },
             "line": {
              "color": "white"
             }
            },
            "header": {
             "fill": {
              "color": "#C8D4E3"
             },
             "line": {
              "color": "white"
             }
            },
            "type": "table"
           }
          ]
         },
         "layout": {
          "annotationdefaults": {
           "arrowcolor": "#2a3f5f",
           "arrowhead": 0,
           "arrowwidth": 1
          },
          "autotypenumbers": "strict",
          "coloraxis": {
           "colorbar": {
            "outlinewidth": 0,
            "ticks": ""
           }
          },
          "colorscale": {
           "diverging": [
            [
             0,
             "#8e0152"
            ],
            [
             0.1,
             "#c51b7d"
            ],
            [
             0.2,
             "#de77ae"
            ],
            [
             0.3,
             "#f1b6da"
            ],
            [
             0.4,
             "#fde0ef"
            ],
            [
             0.5,
             "#f7f7f7"
            ],
            [
             0.6,
             "#e6f5d0"
            ],
            [
             0.7,
             "#b8e186"
            ],
            [
             0.8,
             "#7fbc41"
            ],
            [
             0.9,
             "#4d9221"
            ],
            [
             1,
             "#276419"
            ]
           ],
           "sequential": [
            [
             0,
             "#0d0887"
            ],
            [
             0.1111111111111111,
             "#46039f"
            ],
            [
             0.2222222222222222,
             "#7201a8"
            ],
            [
             0.3333333333333333,
             "#9c179e"
            ],
            [
             0.4444444444444444,
             "#bd3786"
            ],
            [
             0.5555555555555556,
             "#d8576b"
            ],
            [
             0.6666666666666666,
             "#ed7953"
            ],
            [
             0.7777777777777778,
             "#fb9f3a"
            ],
            [
             0.8888888888888888,
             "#fdca26"
            ],
            [
             1,
             "#f0f921"
            ]
           ],
           "sequentialminus": [
            [
             0,
             "#0d0887"
            ],
            [
             0.1111111111111111,
             "#46039f"
            ],
            [
             0.2222222222222222,
             "#7201a8"
            ],
            [
             0.3333333333333333,
             "#9c179e"
            ],
            [
             0.4444444444444444,
             "#bd3786"
            ],
            [
             0.5555555555555556,
             "#d8576b"
            ],
            [
             0.6666666666666666,
             "#ed7953"
            ],
            [
             0.7777777777777778,
             "#fb9f3a"
            ],
            [
             0.8888888888888888,
             "#fdca26"
            ],
            [
             1,
             "#f0f921"
            ]
           ]
          },
          "colorway": [
           "#636efa",
           "#EF553B",
           "#00cc96",
           "#ab63fa",
           "#FFA15A",
           "#19d3f3",
           "#FF6692",
           "#B6E880",
           "#FF97FF",
           "#FECB52"
          ],
          "font": {
           "color": "#2a3f5f"
          },
          "geo": {
           "bgcolor": "white",
           "lakecolor": "white",
           "landcolor": "white",
           "showlakes": true,
           "showland": true,
           "subunitcolor": "#C8D4E3"
          },
          "hoverlabel": {
           "align": "left"
          },
          "hovermode": "closest",
          "mapbox": {
           "style": "light"
          },
          "paper_bgcolor": "white",
          "plot_bgcolor": "white",
          "polar": {
           "angularaxis": {
            "gridcolor": "#EBF0F8",
            "linecolor": "#EBF0F8",
            "ticks": ""
           },
           "bgcolor": "white",
           "radialaxis": {
            "gridcolor": "#EBF0F8",
            "linecolor": "#EBF0F8",
            "ticks": ""
           }
          },
          "scene": {
           "xaxis": {
            "backgroundcolor": "white",
            "gridcolor": "#DFE8F3",
            "gridwidth": 2,
            "linecolor": "#EBF0F8",
            "showbackground": true,
            "ticks": "",
            "zerolinecolor": "#EBF0F8"
           },
           "yaxis": {
            "backgroundcolor": "white",
            "gridcolor": "#DFE8F3",
            "gridwidth": 2,
            "linecolor": "#EBF0F8",
            "showbackground": true,
            "ticks": "",
            "zerolinecolor": "#EBF0F8"
           },
           "zaxis": {
            "backgroundcolor": "white",
            "gridcolor": "#DFE8F3",
            "gridwidth": 2,
            "linecolor": "#EBF0F8",
            "showbackground": true,
            "ticks": "",
            "zerolinecolor": "#EBF0F8"
           }
          },
          "shapedefaults": {
           "line": {
            "color": "#2a3f5f"
           }
          },
          "ternary": {
           "aaxis": {
            "gridcolor": "#DFE8F3",
            "linecolor": "#A2B1C6",
            "ticks": ""
           },
           "baxis": {
            "gridcolor": "#DFE8F3",
            "linecolor": "#A2B1C6",
            "ticks": ""
           },
           "bgcolor": "white",
           "caxis": {
            "gridcolor": "#DFE8F3",
            "linecolor": "#A2B1C6",
            "ticks": ""
           }
          },
          "title": {
           "x": 0.05
          },
          "xaxis": {
           "automargin": true,
           "gridcolor": "#EBF0F8",
           "linecolor": "#EBF0F8",
           "ticks": "",
           "title": {
            "standoff": 15
           },
           "zerolinecolor": "#EBF0F8",
           "zerolinewidth": 2
          },
          "yaxis": {
           "automargin": true,
           "gridcolor": "#EBF0F8",
           "linecolor": "#EBF0F8",
           "ticks": "",
           "title": {
            "standoff": 15
           },
           "zerolinecolor": "#EBF0F8",
           "zerolinewidth": 2
          }
         }
        },
        "title": {
         "text": "<b>Silhouette Score vs Number of Clusters (CBU)</b>",
         "x": 0.5,
         "xanchor": "center",
         "y": 0.95,
         "yanchor": "top"
        },
        "xaxis": {
         "title": {
          "text": "Number of Clusters"
         }
        },
        "yaxis": {
         "title": {
          "text": "Silhouette Score"
         }
        }
       }
      }
     },
     "metadata": {},
     "output_type": "display_data"
    },
    {
     "name": "stdout",
     "output_type": "stream",
     "text": [
      "Majority count after CBU: 1972\n"
     ]
    }
   ],
   "source": [
    "# -----------------------------\n",
    "# Hyperparameter Tuning for CBU with Interactive Plotly Graph\n",
    "# -----------------------------\n",
    "# Candidate cluster numbers\n",
    "range_n_clusters = [30, 50, 70, 90, 110, 130, 150]\n",
    "sil_scores = []\n",
    "\n",
    "print(\"Evaluating silhouette scores for candidate cluster numbers...\")\n",
    "for k in range_n_clusters:\n",
    "    km = KMeans(n_clusters=k, random_state=42)\n",
    "    labels = km.fit_predict(X_train_maj_s)\n",
    "    score = silhouette_score(X_train_maj_s, labels)\n",
    "    sil_scores.append(score)\n",
    "    print(f\"n_clusters={k}, Silhouette Score={score:.4f}\")\n",
    "\n",
    "# Choose best k\n",
    "best_k = range_n_clusters[np.argmax(sil_scores)]\n",
    "print(f\"\\nBest number of clusters for CBU (max silhouette score): {best_k}\")\n",
    "\n",
    "# -----------------------------\n",
    "# Interactive Plotly Graph\n",
    "# -----------------------------\n",
    "fig = go.Figure()\n",
    "\n",
    "# Line and markers for silhouette scores (blue)\n",
    "fig.add_trace(go.Scatter(\n",
    "    x=range_n_clusters, \n",
    "    y=sil_scores,\n",
    "    mode='lines+markers',\n",
    "    name='Silhouette Score',\n",
    "    line=dict(color='blue', dash='dash'),\n",
    "    marker=dict(size=10, color='blue')\n",
    "))\n",
    "\n",
    "# Vertical line for best k (orange, color-blind-friendly)\n",
    "fig.add_trace(go.Scatter(\n",
    "    x=[best_k, best_k],\n",
    "    y=[0, max(sil_scores)],\n",
    "    mode='lines',\n",
    "    name=f'Best k={best_k}',\n",
    "    line=dict(color='orange', dash='dot')\n",
    "))\n",
    "\n",
    "# Update layout with title only\n",
    "fig.update_layout(\n",
    "    title={\n",
    "        'text': \"<b>Silhouette Score vs Number of Clusters (CBU)</b>\",\n",
    "        'y':0.95,\n",
    "        'x':0.5,\n",
    "        'xanchor': 'center',\n",
    "        'yanchor': 'top'\n",
    "    },\n",
    "    xaxis_title=\"Number of Clusters\",\n",
    "    yaxis_title=\"Silhouette Score\",\n",
    "    legend=dict(x=0.7, y=0.95),\n",
    "    template='plotly_white'\n",
    ")\n",
    "\n",
    "fig.show()\n"
   ]
  },
  {
   "cell_type": "markdown",
   "id": "880afe7f",
   "metadata": {},
   "source": [
    "### Observations\n",
    "- Silhouette scores remain quite low overall (≈0.06–0.09), indicating **weak cluster structure** in the data.  \n",
    "- Score improves slightly as the number of clusters increases.  \n",
    "- Best score observed at **150 clusters (0.0864)**, though still far from strong separation.  \n",
    "- Suggests that either:\n",
    "  - Data is not well-suited to clustering, or  \n",
    "  - Feature space / scaling needs refinement, or  \n",
    "  - Alternative clustering methods or meterics may be more appropriate.\n"
   ]
  },
  {
   "cell_type": "markdown",
   "id": "a35a4dae",
   "metadata": {},
   "source": [
    "##### 2. Elbow Method"
   ]
  },
  {
   "cell_type": "code",
   "execution_count": null,
   "id": "4f505a6f",
   "metadata": {},
   "outputs": [
    {
     "data": {
      "image/png": "[encoded data removed]",
      "text/plain": [
       "<Figure size 1400x600 with 2 Axes>"
      ]
     },
     "metadata": {},
     "output_type": "display_data"
    }
   ],
   "source": [
    "# --- Extract majority class samples (unscaled & scaled) ---\n",
    "X_maj = X_train[y_train == 0]  # Majority class (non-fraud)\n",
    "\n",
    "# Scale features for proper clustering\n",
    "scaler = StandardScaler()\n",
    "X_maj_s = scaler.fit_transform(X_maj)\n",
    "\n",
    "# --- Function to compute WCSS (Within-Cluster Sum of Squares) ---\n",
    "def compute_wcss(X, k_range=range(1, 15)):\n",
    "    \"\"\"\n",
    "    Computes WCSS for KMeans clustering over a range of cluster numbers.\n",
    "    Args:\n",
    "        X : array-like, features\n",
    "        k_range : iterable, range of cluster numbers\n",
    "    Returns:\n",
    "        list of WCSS values\n",
    "    \"\"\"\n",
    "    wcss = []\n",
    "    for k in k_range:\n",
    "        kmeans = KMeans(n_clusters=k, random_state=42, n_init=10)\n",
    "        kmeans.fit(X)\n",
    "        wcss.append(kmeans.inertia_)  # Sum of squared distances to cluster centers\n",
    "    return wcss\n",
    "\n",
    "# Range of clusters to evaluate\n",
    "K = range(1, 60)\n",
    "\n",
    "# --- Compute WCSS for unscaled and scaled data ---\n",
    "wcss_unscaled = compute_wcss(X_maj, K)\n",
    "wcss_scaled   = compute_wcss(X_maj_s, K)\n",
    "\n",
    "# --- Plot WCSS (Elbow Method) side by side ---\n",
    "plt.figure(figsize=(14,6))\n",
    "\n",
    "# Without scaling\n",
    "plt.subplot(1,2,1)\n",
    "plt.plot(K, wcss_unscaled, 'bo-')\n",
    "plt.xlabel(\"Number of clusters (k)\")\n",
    "plt.ylabel(\"WCSS\")\n",
    "plt.title(\"Elbow (Without Scaling)\")\n",
    "\n",
    "# With scaling\n",
    "plt.subplot(1,2,2)\n",
    "plt.plot(K, wcss_scaled, 'ro-')\n",
    "plt.xlabel(\"Number of clusters (k)\")\n",
    "plt.ylabel(\"WCSS\")\n",
    "plt.title(\"Elbow (With Scaling)\")\n",
    "\n",
    "plt.tight_layout()\n",
    "plt.show()\n"
   ]
  },
  {
   "cell_type": "markdown",
   "id": "ff1e22a6",
   "metadata": {},
   "source": [
    "### Observations\n",
    "- **Without scaling**  \n",
    "  - Elbow curve suggests ~2 clusters.  \n",
    "  - This is misleading because **features like time and amount dominate** due to magnitude differences.  \n",
    "  - Hence, elbow method without scaling is **not preferred**.  \n",
    "\n",
    "- **With scaling**  \n",
    "  - Sharp decrease in WCSS from **k=1 to k≈30**.  \n",
    "  - Beyond **k=30–50**, decrease becomes gradual (flattening).  \n",
    "  - Indicates the appropriate number of clusters is likely around **30-50**.  \n",
    "\n",
    "- **Next step**  \n",
    "  - Use other internal validation metrics such as **Davies–Bouldin Index (DBI)** and **Calinski–Harabasz Index (CHI)** for further confirmation of cluster quality.\n",
    "\n"
   ]
  },
  {
   "cell_type": "markdown",
   "id": "1874b840",
   "metadata": {},
   "source": []
  },
  {
   "cell_type": "markdown",
   "id": "ca2199f0",
   "metadata": {},
   "source": [
    "##### 3. Davies–Bouldin Score and Calinski–Harabasz Score\n",
    "\n",
    "- **Davies–Bouldin Index (DBI):**\n",
    "  - Measures average similarity between clusters (ratio of within-cluster scatter to between-cluster separation).\n",
    "  - **Lower is better** → closer to 0 means clusters are compact and well separated.\n",
    "\n",
    "- **Calinski–Harabasz Index (CHI):**\n",
    "  - Also called Variance Ratio Criterion.\n",
    "  - Ratio of between-cluster dispersion to within-cluster dispersion.\n",
    "  - **Higher is better** → indicates dense, well-separated clusters.\n",
    "\n",
    "**Usage in our case:**\n",
    "- After scaling, compute DBI and CHI for different numbers of clusters (e.g., 10, 20, 30, …, 150).\n",
    "- These metrics will help confirm if the **30–50 cluster range** (suggested by WCSS and Silhouette) is valid.\n",
    "#### 3. davies_bouldin_score, calinski_harabasz_score"
   ]
  },
  {
   "cell_type": "code",
   "execution_count": 50,
   "id": "db954480",
   "metadata": {},
   "outputs": [
    {
     "name": "stdout",
     "output_type": "stream",
     "text": [
      "Evaluating DBI and CHI for candidate cluster numbers...\n",
      "n_clusters=30 | DBI=2.0568, CHI=5675.89\n",
      "n_clusters=50 | DBI=2.0955, CHI=4524.21\n",
      "n_clusters=70 | DBI=2.0150, CHI=3930.78\n",
      "n_clusters=90 | DBI=1.9653, CHI=3466.29\n",
      "n_clusters=110 | DBI=2.0069, CHI=3096.66\n",
      "n_clusters=130 | DBI=2.0217, CHI=2805.73\n",
      "n_clusters=150 | DBI=2.0060, CHI=2599.93\n",
      "\n",
      "Best k (by DBI): 90\n",
      "Best k (by CHI): 30\n"
     ]
    },
    {
     "data": {
      "application/vnd.plotly.v1+json": {
       "config": {
        "plotlyServerURL": "https://plot.ly"
       },
       "data": [
        {
         "line": {
          "color": "red",
          "dash": "dot"
         },
         "marker": {
          "color": "red",
          "size": 10
         },
         "mode": "lines+markers",
         "name": "Davies–Bouldin (↓)",
         "type": "scatter",
         "x": [
          30,
          50,
          70,
          90,
          110,
          130,
          150
         ],
         "y": [
          2.0568437505824444,
          2.095456599278434,
          2.0150323503248098,
          1.9653447728876292,
          2.006897725717948,
          2.0216994936217776,
          2.005985855505438
         ]
        },
        {
         "line": {
          "color": "green",
          "dash": "solid"
         },
         "marker": {
          "color": "green",
          "size": 10
         },
         "mode": "lines+markers",
         "name": "Calinski–Harabasz (↑)",
         "type": "scatter",
         "x": [
          30,
          50,
          70,
          90,
          110,
          130,
          150
         ],
         "y": [
          5675.886072298778,
          4524.20695383569,
          3930.7762489128963,
          3466.2948364619174,
          3096.6642889662635,
          2805.7261142084267,
          2599.9348395675365
         ],
         "yaxis": "y2"
        }
       ],
       "layout": {
        "legend": {
         "x": 0.6,
         "y": 0.95
        },
        "template": {
         "data": {
          "bar": [
           {
            "error_x": {
             "color": "#2a3f5f"
            },
            "error_y": {
             "color": "#2a3f5f"
            },
            "marker": {
             "line": {
              "color": "white",
              "width": 0.5
             },
             "pattern": {
              "fillmode": "overlay",
              "size": 10,
              "solidity": 0.2
             }
            },
            "type": "bar"
           }
          ],
          "barpolar": [
           {
            "marker": {
             "line": {
              "color": "white",
              "width": 0.5
             },
             "pattern": {
              "fillmode": "overlay",
              "size": 10,
              "solidity": 0.2
             }
            },
            "type": "barpolar"
           }
          ],
          "carpet": [
           {
            "aaxis": {
             "endlinecolor": "#2a3f5f",
             "gridcolor": "#C8D4E3",
             "linecolor": "#C8D4E3",
             "minorgridcolor": "#C8D4E3",
             "startlinecolor": "#2a3f5f"
            },
            "baxis": {
             "endlinecolor": "#2a3f5f",
             "gridcolor": "#C8D4E3",
             "linecolor": "#C8D4E3",
             "minorgridcolor": "#C8D4E3",
             "startlinecolor": "#2a3f5f"
            },
            "type": "carpet"
           }
          ],
          "choropleth": [
           {
            "colorbar": {
             "outlinewidth": 0,
             "ticks": ""
            },
            "type": "choropleth"
           }
          ],
          "contour": [
           {
            "colorbar": {
             "outlinewidth": 0,
             "ticks": ""
            },
            "colorscale": [
             [
              0,
              "#0d0887"
             ],
             [
              0.1111111111111111,
              "#46039f"
             ],
             [
              0.2222222222222222,
              "#7201a8"
             ],
             [
              0.3333333333333333,
              "#9c179e"
             ],
             [
              0.4444444444444444,
              "#bd3786"
             ],
             [
              0.5555555555555556,
              "#d8576b"
             ],
             [
              0.6666666666666666,
              "#ed7953"
             ],
             [
              0.7777777777777778,
              "#fb9f3a"
             ],
             [
              0.8888888888888888,
              "#fdca26"
             ],
             [
              1,
              "#f0f921"
             ]
            ],
            "type": "contour"
           }
          ],
          "contourcarpet": [
           {
            "colorbar": {
             "outlinewidth": 0,
             "ticks": ""
            },
            "type": "contourcarpet"
           }
          ],
          "heatmap": [
           {
            "colorbar": {
             "outlinewidth": 0,
             "ticks": ""
            },
            "colorscale": [
             [
              0,
              "#0d0887"
             ],
             [
              0.1111111111111111,
              "#46039f"
             ],
             [
              0.2222222222222222,
              "#7201a8"
             ],
             [
              0.3333333333333333,
              "#9c179e"
             ],
             [
              0.4444444444444444,
              "#bd3786"
             ],
             [
              0.5555555555555556,
              "#d8576b"
             ],
             [
              0.6666666666666666,
              "#ed7953"
             ],
             [
              0.7777777777777778,
              "#fb9f3a"
             ],
             [
              0.8888888888888888,
              "#fdca26"
             ],
             [
              1,
              "#f0f921"
             ]
            ],
            "type": "heatmap"
           }
          ],
          "histogram": [
           {
            "marker": {
             "pattern": {
              "fillmode": "overlay",
              "size": 10,
              "solidity": 0.2
             }
            },
            "type": "histogram"
           }
          ],
          "histogram2d": [
           {
            "colorbar": {
             "outlinewidth": 0,
             "ticks": ""
            },
            "colorscale": [
             [
              0,
              "#0d0887"
             ],
             [
              0.1111111111111111,
              "#46039f"
             ],
             [
              0.2222222222222222,
              "#7201a8"
             ],
             [
              0.3333333333333333,
              "#9c179e"
             ],
             [
              0.4444444444444444,
              "#bd3786"
             ],
             [
              0.5555555555555556,
              "#d8576b"
             ],
             [
              0.6666666666666666,
              "#ed7953"
             ],
             [
              0.7777777777777778,
              "#fb9f3a"
             ],
             [
              0.8888888888888888,
              "#fdca26"
             ],
             [
              1,
              "#f0f921"
             ]
            ],
            "type": "histogram2d"
           }
          ],
          "histogram2dcontour": [
           {
            "colorbar": {
             "outlinewidth": 0,
             "ticks": ""
            },
            "colorscale": [
             [
              0,
              "#0d0887"
             ],
             [
              0.1111111111111111,
              "#46039f"
             ],
             [
              0.2222222222222222,
              "#7201a8"
             ],
             [
              0.3333333333333333,
              "#9c179e"
             ],
             [
              0.4444444444444444,
              "#bd3786"
             ],
             [
              0.5555555555555556,
              "#d8576b"
             ],
             [
              0.6666666666666666,
              "#ed7953"
             ],
             [
              0.7777777777777778,
              "#fb9f3a"
             ],
             [
              0.8888888888888888,
              "#fdca26"
             ],
             [
              1,
              "#f0f921"
             ]
            ],
            "type": "histogram2dcontour"
           }
          ],
          "mesh3d": [
           {
            "colorbar": {
             "outlinewidth": 0,
             "ticks": ""
            },
            "type": "mesh3d"
           }
          ],
          "parcoords": [
           {
            "line": {
             "colorbar": {
              "outlinewidth": 0,
              "ticks": ""
             }
            },
            "type": "parcoords"
           }
          ],
          "pie": [
           {
            "automargin": true,
            "type": "pie"
           }
          ],
          "scatter": [
           {
            "fillpattern": {
             "fillmode": "overlay",
             "size": 10,
             "solidity": 0.2
            },
            "type": "scatter"
           }
          ],
          "scatter3d": [
           {
            "line": {
             "colorbar": {
              "outlinewidth": 0,
              "ticks": ""
             }
            },
            "marker": {
             "colorbar": {
              "outlinewidth": 0,
              "ticks": ""
             }
            },
            "type": "scatter3d"
           }
          ],
          "scattercarpet": [
           {
            "marker": {
             "colorbar": {
              "outlinewidth": 0,
              "ticks": ""
             }
            },
            "type": "scattercarpet"
           }
          ],
          "scattergeo": [
           {
            "marker": {
             "colorbar": {
              "outlinewidth": 0,
              "ticks": ""
             }
            },
            "type": "scattergeo"
           }
          ],
          "scattergl": [
           {
            "marker": {
             "colorbar": {
              "outlinewidth": 0,
              "ticks": ""
             }
            },
            "type": "scattergl"
           }
          ],
          "scattermap": [
           {
            "marker": {
             "colorbar": {
              "outlinewidth": 0,
              "ticks": ""
             }
            },
            "type": "scattermap"
           }
          ],
          "scattermapbox": [
           {
            "marker": {
             "colorbar": {
              "outlinewidth": 0,
              "ticks": ""
             }
            },
            "type": "scattermapbox"
           }
          ],
          "scatterpolar": [
           {
            "marker": {
             "colorbar": {
              "outlinewidth": 0,
              "ticks": ""
             }
            },
            "type": "scatterpolar"
           }
          ],
          "scatterpolargl": [
           {
            "marker": {
             "colorbar": {
              "outlinewidth": 0,
              "ticks": ""
             }
            },
            "type": "scatterpolargl"
           }
          ],
          "scatterternary": [
           {
            "marker": {
             "colorbar": {
              "outlinewidth": 0,
              "ticks": ""
             }
            },
            "type": "scatterternary"
           }
          ],
          "surface": [
           {
            "colorbar": {
             "outlinewidth": 0,
             "ticks": ""
            },
            "colorscale": [
             [
              0,
              "#0d0887"
             ],
             [
              0.1111111111111111,
              "#46039f"
             ],
             [
              0.2222222222222222,
              "#7201a8"
             ],
             [
              0.3333333333333333,
              "#9c179e"
             ],
             [
              0.4444444444444444,
              "#bd3786"
             ],
             [
              0.5555555555555556,
              "#d8576b"
             ],
             [
              0.6666666666666666,
              "#ed7953"
             ],
             [
              0.7777777777777778,
              "#fb9f3a"
             ],
             [
              0.8888888888888888,
              "#fdca26"
             ],
             [
              1,
              "#f0f921"
             ]
            ],
            "type": "surface"
           }
          ],
          "table": [
           {
            "cells": {
             "fill": {
              "color": "#EBF0F8"
             },
             "line": {
              "color": "white"
             }
            },
            "header": {
             "fill": {
              "color": "#C8D4E3"
             },
             "line": {
              "color": "white"
             }
            },
            "type": "table"
           }
          ]
         },
         "layout": {
          "annotationdefaults": {
           "arrowcolor": "#2a3f5f",
           "arrowhead": 0,
           "arrowwidth": 1
          },
          "autotypenumbers": "strict",
          "coloraxis": {
           "colorbar": {
            "outlinewidth": 0,
            "ticks": ""
           }
          },
          "colorscale": {
           "diverging": [
            [
             0,
             "#8e0152"
            ],
            [
             0.1,
             "#c51b7d"
            ],
            [
             0.2,
             "#de77ae"
            ],
            [
             0.3,
             "#f1b6da"
            ],
            [
             0.4,
             "#fde0ef"
            ],
            [
             0.5,
             "#f7f7f7"
            ],
            [
             0.6,
             "#e6f5d0"
            ],
            [
             0.7,
             "#b8e186"
            ],
            [
             0.8,
             "#7fbc41"
            ],
            [
             0.9,
             "#4d9221"
            ],
            [
             1,
             "#276419"
            ]
           ],
           "sequential": [
            [
             0,
             "#0d0887"
            ],
            [
             0.1111111111111111,
             "#46039f"
            ],
            [
             0.2222222222222222,
             "#7201a8"
            ],
            [
             0.3333333333333333,
             "#9c179e"
            ],
            [
             0.4444444444444444,
             "#bd3786"
            ],
            [
             0.5555555555555556,
             "#d8576b"
            ],
            [
             0.6666666666666666,
             "#ed7953"
            ],
            [
             0.7777777777777778,
             "#fb9f3a"
            ],
            [
             0.8888888888888888,
             "#fdca26"
            ],
            [
             1,
             "#f0f921"
            ]
           ],
           "sequentialminus": [
            [
             0,
             "#0d0887"
            ],
            [
             0.1111111111111111,
             "#46039f"
            ],
            [
             0.2222222222222222,
             "#7201a8"
            ],
            [
             0.3333333333333333,
             "#9c179e"
            ],
            [
             0.4444444444444444,
             "#bd3786"
            ],
            [
             0.5555555555555556,
             "#d8576b"
            ],
            [
             0.6666666666666666,
             "#ed7953"
            ],
            [
             0.7777777777777778,
             "#fb9f3a"
            ],
            [
             0.8888888888888888,
             "#fdca26"
            ],
            [
             1,
             "#f0f921"
            ]
           ]
          },
          "colorway": [
           "#636efa",
           "#EF553B",
           "#00cc96",
           "#ab63fa",
           "#FFA15A",
           "#19d3f3",
           "#FF6692",
           "#B6E880",
           "#FF97FF",
           "#FECB52"
          ],
          "font": {
           "color": "#2a3f5f"
          },
          "geo": {
           "bgcolor": "white",
           "lakecolor": "white",
           "landcolor": "white",
           "showlakes": true,
           "showland": true,
           "subunitcolor": "#C8D4E3"
          },
          "hoverlabel": {
           "align": "left"
          },
          "hovermode": "closest",
          "mapbox": {
           "style": "light"
          },
          "paper_bgcolor": "white",
          "plot_bgcolor": "white",
          "polar": {
           "angularaxis": {
            "gridcolor": "#EBF0F8",
            "linecolor": "#EBF0F8",
            "ticks": ""
           },
           "bgcolor": "white",
           "radialaxis": {
            "gridcolor": "#EBF0F8",
            "linecolor": "#EBF0F8",
            "ticks": ""
           }
          },
          "scene": {
           "xaxis": {
            "backgroundcolor": "white",
            "gridcolor": "#DFE8F3",
            "gridwidth": 2,
            "linecolor": "#EBF0F8",
            "showbackground": true,
            "ticks": "",
            "zerolinecolor": "#EBF0F8"
           },
           "yaxis": {
            "backgroundcolor": "white",
            "gridcolor": "#DFE8F3",
            "gridwidth": 2,
            "linecolor": "#EBF0F8",
            "showbackground": true,
            "ticks": "",
            "zerolinecolor": "#EBF0F8"
           },
           "zaxis": {
            "backgroundcolor": "white",
            "gridcolor": "#DFE8F3",
            "gridwidth": 2,
            "linecolor": "#EBF0F8",
            "showbackground": true,
            "ticks": "",
            "zerolinecolor": "#EBF0F8"
           }
          },
          "shapedefaults": {
           "line": {
            "color": "#2a3f5f"
           }
          },
          "ternary": {
           "aaxis": {
            "gridcolor": "#DFE8F3",
            "linecolor": "#A2B1C6",
            "ticks": ""
           },
           "baxis": {
            "gridcolor": "#DFE8F3",
            "linecolor": "#A2B1C6",
            "ticks": ""
           },
           "bgcolor": "white",
           "caxis": {
            "gridcolor": "#DFE8F3",
            "linecolor": "#A2B1C6",
            "ticks": ""
           }
          },
          "title": {
           "x": 0.05
          },
          "xaxis": {
           "automargin": true,
           "gridcolor": "#EBF0F8",
           "linecolor": "#EBF0F8",
           "ticks": "",
           "title": {
            "standoff": 15
           },
           "zerolinecolor": "#EBF0F8",
           "zerolinewidth": 2
          },
          "yaxis": {
           "automargin": true,
           "gridcolor": "#EBF0F8",
           "linecolor": "#EBF0F8",
           "ticks": "",
           "title": {
            "standoff": 15
           },
           "zerolinecolor": "#EBF0F8",
           "zerolinewidth": 2
          }
         }
        },
        "title": {
         "text": "<b>DBI & CHI vs Number of Clusters (CBU)</b>"
        },
        "xaxis": {
         "title": {
          "text": "Number of Clusters"
         }
        },
        "yaxis": {
         "side": "left",
         "title": {
          "text": "Davies–Bouldin (lower is better)"
         }
        },
        "yaxis2": {
         "overlaying": "y",
         "showgrid": false,
         "side": "right",
         "title": {
          "text": "Calinski–Harabasz (higher is better)"
         }
        }
       }
      }
     },
     "metadata": {},
     "output_type": "display_data"
    }
   ],
   "source": [
    "# -----------------------------\n",
    "# Hyperparameter Tuning for CBU with DBI and CHI\n",
    "# -----------------------------\n",
    "import numpy as np\n",
    "from sklearn.cluster import KMeans\n",
    "from sklearn.metrics import davies_bouldin_score, calinski_harabasz_score\n",
    "import plotly.graph_objects as go\n",
    "\n",
    "# Candidate cluster numbers\n",
    "range_n_clusters = [30, 50, 70, 90, 110, 130, 150]\n",
    "dbi_scores, chi_scores = [], []\n",
    "\n",
    "print(\"Evaluating DBI and CHI for candidate cluster numbers...\")\n",
    "for k in range_n_clusters:\n",
    "    km = KMeans(n_clusters=k, random_state=42)\n",
    "    labels = km.fit_predict(X_train_maj_s)\n",
    "    \n",
    "    dbi = davies_bouldin_score(X_train_maj_s, labels)         # Lower is better\n",
    "    chi = calinski_harabasz_score(X_train_maj_s, labels)      # Higher is better\n",
    "    \n",
    "    dbi_scores.append(dbi)\n",
    "    chi_scores.append(chi)\n",
    "    \n",
    "    print(f\"n_clusters={k} | DBI={dbi:.4f}, CHI={chi:.2f}\")\n",
    "\n",
    "# Best k by each metric\n",
    "best_k_dbi = range_n_clusters[np.argmin(dbi_scores)]\n",
    "best_k_chi = range_n_clusters[np.argmax(chi_scores)]\n",
    "\n",
    "print(f\"\\nBest k (by DBI): {best_k_dbi}\")\n",
    "print(f\"Best k (by CHI): {best_k_chi}\")\n",
    "\n",
    "# -----------------------------\n",
    "# Interactive Plotly Graph\n",
    "# -----------------------------\n",
    "fig = go.Figure()\n",
    "\n",
    "# DBI (red, lower = better)\n",
    "fig.add_trace(go.Scatter(\n",
    "    x=range_n_clusters, y=dbi_scores,\n",
    "    mode='lines+markers',\n",
    "    name='Davies–Bouldin (↓)',\n",
    "    line=dict(color='red', dash='dot'),\n",
    "    marker=dict(size=10, color='red')\n",
    "))\n",
    "\n",
    "# CHI (green, higher = better)\n",
    "fig.add_trace(go.Scatter(\n",
    "    x=range_n_clusters, y=chi_scores,\n",
    "    mode='lines+markers',\n",
    "    name='Calinski–Harabasz (↑)',\n",
    "    line=dict(color='green', dash='solid'),\n",
    "    marker=dict(size=10, color='green'),\n",
    "    yaxis=\"y2\"\n",
    "))\n",
    "\n",
    "# Layout with dual y-axes\n",
    "fig.update_layout(\n",
    "    title=\"<b>DBI & CHI vs Number of Clusters (CBU)</b>\",\n",
    "    xaxis=dict(title=\"Number of Clusters\"),\n",
    "    yaxis=dict(title=\"Davies–Bouldin (lower is better)\", side=\"left\"),\n",
    "    yaxis2=dict(\n",
    "        title=\"Calinski–Harabasz (higher is better)\",\n",
    "        overlaying=\"y\", side=\"right\", showgrid=False\n",
    "    ),\n",
    "    legend=dict(x=0.6, y=0.95),\n",
    "    template='plotly_white'\n",
    ")\n",
    "\n",
    "fig.show()\n"
   ]
  },
  {
   "cell_type": "markdown",
   "id": "9c5a37a7",
   "metadata": {},
   "source": [
    "##### Evaluation using Davies–Bouldin Index (DBI) and Calinski–Harabasz Index (CHI)\n",
    "\n",
    "- **DBI (lower is better)**  \n",
    "  - Best value at **k = 90 (DBI = 1.9653)**.  \n",
    "  - Suggests more compact and well-separated clusters at higher cluster counts.  \n",
    "\n",
    "- **CHI (higher is better)**  \n",
    "  - Best value at **k = 30 (CHI = 5675.89)**.  \n",
    "  - Indicates stronger separation and compactness when fewer clusters are used.  \n",
    "\n",
    "##### Observations\n",
    "- A clear **trade-off** exists between the two metrics:  \n",
    "  - **DBI** favors more clusters (better compactness at **k = 90**).  \n",
    "  - **CHI** favors fewer clusters (better separation at **k = 30**).  \n",
    "- Both metrics agree that meaningful structure exists in the **30–90 cluster range**.  \n",
    "\n",
    "##### Final Conclusion\n",
    "- Combining **WCSS, Silhouette, DBI, and CHI**:  \n",
    "  - **30–50 clusters** emerge as the most balanced choice (supported by Elbow, Silhouette, and CHI).  \n",
    "  - **~90 clusters** is also valid per DBI but comes with higher computational cost.  \n",
    "- For practical undersampling of the majority class, **~50 clusters** is a reasonable compromise between quality and efficiency.\n",
    "\n",
    "\n",
    "**Note: Rebalancing with CBU is done in subsequent steps with model training and evaluation.**\n"
   ]
  },
  {
   "cell_type": "markdown",
   "id": "d83eac21",
   "metadata": {},
   "source": []
  },
  {
   "cell_type": "markdown",
   "id": "ae8c01f4",
   "metadata": {},
   "source": [
    "### Part C: Performance Evaluation and Conclusion"
   ]
  },
  {
   "cell_type": "markdown",
   "id": "d3628018",
   "metadata": {},
   "source": [
    "#### Task C.1: Model Training and Evaluation"
   ]
  },
  {
   "cell_type": "code",
   "execution_count": 301,
   "id": "9c9a955a",
   "metadata": {},
   "outputs": [],
   "source": [
    "class GMMCBUClassifier(BaseEstimator, ClassifierMixin):\n",
    "    def __init__(self, gmm=None, num_minority_samples=10000, maj_ratio=3, \n",
    "                 n_clusters=50, C=1.0, penalty=\"l2\", solver=\"saga\", random_state=42):\n",
    "        # Initialize classifier parameters\n",
    "        self.gmm = gmm                              # Predefined GMM instance for minority sampling\n",
    "        self.num_minority_samples = num_minority_samples  # Number of synthetic minority samples to generate\n",
    "        self.maj_ratio = maj_ratio                  # Desired majority:minority ratio\n",
    "        self.n_clusters = n_clusters                # Number of clusters for majority undersampling\n",
    "        self.C = C                                  # Logistic Regression regularization parameter\n",
    "        self.penalty = penalty                      # Logistic Regression penalty type\n",
    "        self.solver = solver                        # Logistic Regression solver\n",
    "        self.random_state = random_state\n",
    "\n",
    "    def fit(self, X, y):\n",
    "        # --- Step 1: Split minority and majority classes ---\n",
    "        X_min = X[y==1]  # Minority class (fraud)\n",
    "        X_maj = X[y==0]  # Majority class (non-fraud)\n",
    "\n",
    "        # --- Step 2: Scale features for GMM ---\n",
    "        scaler = StandardScaler()\n",
    "        X_scaled = scaler.fit_transform(X)  # Fit on entire dataset for consistent scaling\n",
    "        X_min_s = X_scaled[y==1]            # Scaled minority data\n",
    "        X_maj_s = X_scaled[y==0]            # Scaled majority data\n",
    "\n",
    "        # --- Step 3: Fit GMM on minority class ---\n",
    "        gmm = GaussianMixture(n_components=self.gmm.n_components, random_state=self.random_state)\n",
    "        gmm.fit(X_min_s)\n",
    "\n",
    "        # --- Step 4: Generate synthetic minority samples ---\n",
    "        X_synth_s, _ = gmm.sample(self.num_minority_samples)  # Sample in scaled space\n",
    "        X_synth = scaler.inverse_transform(X_synth_s)         # Convert back to original scale\n",
    "        df_synth = pd.DataFrame(X_synth, columns=X.columns)   # DataFrame for concatenation\n",
    "\n",
    "        # --- Step 5: Proportional undersampling of majority class ---\n",
    "        num_majority_samples = self.num_minority_samples * self.maj_ratio\n",
    "\n",
    "        km = KMeans(n_clusters=self.n_clusters, random_state=self.random_state)\n",
    "        clusters = km.fit_predict(X_maj_s)  # Assign majority samples to clusters\n",
    "\n",
    "        idxs = np.arange(len(X_maj_s))\n",
    "        cluster_sizes = np.bincount(clusters)\n",
    "        # Determine how many samples to pick from each cluster proportionally\n",
    "        picks = np.round(cluster_sizes / cluster_sizes.sum() * num_majority_samples).astype(int)\n",
    "\n",
    "        selected_idx = []\n",
    "        for cid in range(self.n_clusters):\n",
    "            cand = idxs[clusters == cid]            # Candidate indices in this cluster\n",
    "            pick = min(len(cand), picks[cid])       # Ensure we don't pick more than available\n",
    "            chosen = np.random.choice(cand, size=pick, replace=False)  # Randomly select\n",
    "            selected_idx.extend(X_maj.index[chosen])\n",
    "\n",
    "        X_maj_cbu = X_maj.loc[selected_idx]        # Subset of majority class after undersampling\n",
    "\n",
    "        # --- Step 6: Combine balanced dataset ---\n",
    "        X_balanced = pd.concat([X_maj_cbu, X_min, df_synth])\n",
    "        y_balanced = np.concatenate([\n",
    "            np.zeros(len(X_maj_cbu)),            # Majority labels\n",
    "            np.ones(len(X_min) + len(df_synth))  # Minority + synthetic labels\n",
    "        ])\n",
    "\n",
    "        # --- Step 7: Scale features for Logistic Regression ---\n",
    "        self.lr_scaler = StandardScaler()\n",
    "        X_bal_s = self.lr_scaler.fit_transform(X_balanced)\n",
    "\n",
    "        # --- Step 8: Train Logistic Regression on balanced data ---\n",
    "        self.clf = LogisticRegression(\n",
    "            C=self.C, penalty=self.penalty, solver=self.solver, \n",
    "            max_iter=5000, random_state=self.random_state\n",
    "        )\n",
    "        self.clf.fit(X_bal_s, y_balanced)\n",
    "        return self\n",
    "\n",
    "    def predict(self, X):\n",
    "        # Scale test data and predict class labels\n",
    "        X_scaled = self.lr_scaler.transform(X)\n",
    "        return self.clf.predict(X_scaled)\n",
    "\n",
    "    def predict_proba(self, X):\n",
    "        # Scale test data and predict probabilities\n",
    "        X_scaled = self.lr_scaler.transform(X)\n",
    "        return self.clf.predict_proba(X_scaled)\n",
    "\n"
   ]
  },
  {
   "cell_type": "code",
   "execution_count": null,
   "id": "03e2d2dd",
   "metadata": {},
   "outputs": [
    {
     "name": "stdout",
     "output_type": "stream",
     "text": [
      "Fitting 3 folds for each of 480 candidates, totalling 1440 fits\n",
      "Best Params: {'C': 0.01, 'maj_ratio': 15, 'n_clusters': 100, 'num_minority_samples': 10000, 'penalty': 'l1', 'solver': 'liblinear'}\n",
      "Best F1 (CV): 0.7543996822941055\n",
      "\n",
      "=== Test Set Evaluation ===\n",
      "              precision    recall  f1-score   support\n",
      "\n",
      "           0     0.9998    0.9992    0.9995     56864\n",
      "           1     0.6439    0.8673    0.7391        98\n",
      "\n",
      "    accuracy                         0.9989     56962\n",
      "   macro avg     0.8219    0.9333    0.8693     56962\n",
      "weighted avg     0.9992    0.9989    0.9990     56962\n",
      "\n",
      "Confusion Matrix:\n",
      " [[56817    47]\n",
      " [   13    85]]\n",
      "ROC AUC: 0.9742351604400905\n",
      "PR AUC: 0.7385100009731438\n"
     ]
    }
   ],
   "source": [
    "# -----------------------------\n",
    "# Define hyperparameter grid for tuning\n",
    "# -----------------------------\n",
    "param_grid = {\n",
    "    \"num_minority_samples\": [10000, 20000, 30000],  # Number of synthetic minority samples to generate\n",
    "    \"maj_ratio\": [10, 15, 20, 25, 30],             # Desired majority:minority ratio after undersampling\n",
    "    \"n_clusters\": [50, 100],                        # Number of clusters for majority class in undersampling\n",
    "    \"C\": [0.01, 0.1, 0.5, 1.0],                    # Logistic Regression regularization parameter\n",
    "    \"penalty\": [\"l1\", \"l2\"],                        # Regularization type\n",
    "    \"solver\": [\"saga\", 'liblinear']                 # Solver choice for logistic regression\n",
    "}\n",
    "\n",
    "# Initialize GMM-based CBU classifier with pre-fitted GMM for minority class\n",
    "gmm_cbu_clf = GMMCBUClassifier(gmm=gmm)\n",
    "\n",
    "# -----------------------------\n",
    "# Grid Search Cross-Validation\n",
    "# -----------------------------\n",
    "grid = GridSearchCV(\n",
    "    estimator=GMMCBUClassifier(gmm=gmm),  # Model to tune\n",
    "    param_grid=param_grid,                # Hyperparameter grid\n",
    "    scoring=\"f1\",                          # Optimize F1 score (handles class imbalance)\n",
    "    cv=3,                                  # 3-fold cross-validation\n",
    "    n_jobs=-1,                             # Use all CPU cores\n",
    "    verbose=2                              # Print progress\n",
    ")\n",
    "\n",
    "# Fit GridSearchCV on training data\n",
    "grid.fit(X_train, y_train)\n",
    "\n",
    "# -----------------------------\n",
    "# Extract best model\n",
    "# -----------------------------\n",
    "best_model = grid.best_estimator_       # Get the model with best hyperparameters\n",
    "\n",
    "print(\"Best Params:\", grid.best_params_)   # Display optimal hyperparameters\n",
    "print(\"Best F1 (CV):\", grid.best_score_)   # CV F1 score for best model\n",
    "\n",
    "# -----------------------------\n",
    "# Evaluate on test set\n",
    "# -----------------------------\n",
    "y_pred = best_model.predict(X_test)           # Predict class labels\n",
    "y_prob = best_model.predict_proba(X_test)[:, 1]  # Predict probabilities for positive class\n",
    "\n",
    "# Print detailed evaluation metrics\n",
    "print(\"\\n=== Test Set Evaluation ===\")\n",
    "print(classification_report(y_test, y_pred, digits=4))  # Precision, Recall, F1\n",
    "print(\"Confusion Matrix:\\n\", confusion_matrix(y_test, y_pred))\n",
    "print(\"ROC AUC:\", roc_auc_score(y_test, y_prob))        # Area under ROC curve\n",
    "print(\"PR AUC:\", average_precision_score(y_test, y_prob))  # Area under Precision-Recall curve\n",
    "\n"
   ]
  },
  {
   "cell_type": "code",
   "execution_count": 325,
   "id": "346a701b",
   "metadata": {},
   "outputs": [
    {
     "name": "stdout",
     "output_type": "stream",
     "text": [
      "\n",
      "=== Test Set Evaluation ===\n",
      "              precision    recall  f1-score   support\n",
      "\n",
      "           0     0.9997    0.9995    0.9996     56864\n",
      "           1     0.7207    0.8163    0.7656        98\n",
      "\n",
      "    accuracy                         0.9991     56962\n",
      "   macro avg     0.8602    0.9079    0.8826     56962\n",
      "weighted avg     0.9992    0.9991    0.9992     56962\n",
      "\n",
      "Confusion Matrix:\n",
      " [[56833    31]\n",
      " [   18    80]]\n",
      "ROC AUC: 0.9787136224776911\n",
      "PR AUC: 0.7093236465328328\n"
     ]
    },
    {
     "data": {
      "image/png": "[encoded data removed]",
      "text/plain": [
       "<Figure size 1200x900 with 4 Axes>"
      ]
     },
     "metadata": {},
     "output_type": "display_data"
    }
   ],
   "source": [
    "# -----------------------------\n",
    "# Initialize GMM-based CBU classifier with chosen hyperparameters\n",
    "# -----------------------------\n",
    "gmm_cbu_clf = GMMCBUClassifier(\n",
    "    gmm=gmm,                      # Pre-fitted GMM for minority sampling\n",
    "    num_minority_samples=5000,    # Number of synthetic minority samples to generate\n",
    "    maj_ratio=20,                  # Desired majority:minority ratio after undersampling\n",
    "    n_clusters=50,                 # Number of clusters for majority class in undersampling\n",
    "    C=0.001,                       # Logistic Regression regularization strength (small value = stronger regularization)\n",
    "    penalty=\"l1\",                  # L1 regularization\n",
    "    solver=\"liblinear\",            # Solver supporting L1 penalty\n",
    "    random_state=42                # For reproducibility\n",
    ")\n",
    "\n",
    "# -----------------------------\n",
    "# Fit classifier on training data\n",
    "# -----------------------------\n",
    "gmm_cbu_clf.fit(X_train, y_train)\n",
    "\n",
    "# -----------------------------\n",
    "# Predict on test set\n",
    "# -----------------------------\n",
    "y_pred = gmm_cbu_clf.predict(X_test)            # Predicted class labels\n",
    "y_prob = gmm_cbu_clf.predict_proba(X_test)[:, 1]  # Predicted probabilities for positive class (fraud)\n",
    "\n",
    "# -----------------------------\n",
    "# Evaluate model performance\n",
    "# -----------------------------\n",
    "print(\"\\n=== Test Set Evaluation ===\")\n",
    "print(classification_report(y_test, y_pred, digits=4))   # Precision, Recall, F1-score\n",
    "print(\"Confusion Matrix:\\n\", confusion_matrix(y_test, y_pred))  # True/False Positives/Negatives\n",
    "print(\"ROC AUC:\", roc_auc_score(y_test, y_prob))         # ROC-AUC for ranking performance\n",
    "print(\"PR AUC:\", average_precision_score(y_test, y_prob))  # Precision-Recall AUC (important for imbalanced data)\n",
    "\n",
    "\n",
    "# -----------------------------\n",
    "# Visualization: 2x2 layout for evaluation\n",
    "# -----------------------------\n",
    "\n",
    "# -----------------------------\n",
    "# Step 1: Compute evaluation metrics\n",
    "# -----------------------------\n",
    "cm = confusion_matrix(y_test, y_pred)  # Confusion matrix\n",
    "fpr, tpr, _ = roc_curve(y_test, y_prob)  # ROC values\n",
    "precision, recall, _ = precision_recall_curve(y_test, y_prob)  # PR values\n",
    "roc_auc_val = auc(fpr, tpr)  # ROC AUC\n",
    "pr_auc_val = auc(recall, precision)  # PR AUC\n",
    "\n",
    "# Precision, Recall, F1 for minority class (fraud = 1)\n",
    "p, r, f, _ = precision_recall_fscore_support(y_test, y_pred, labels=[1])\n",
    "metrics_scores = {\"Precision\": p[0], \"Recall\": r[0], \"F1-score\": f[0]}\n",
    "\n",
    "# -----------------------------\n",
    "# Step 2: Enhance confusion matrix with percentages\n",
    "# -----------------------------\n",
    "cm_sum = np.sum(cm)  # total samples\n",
    "cm_percent = cm / cm_sum * 100  # percentage per cell\n",
    "\n",
    "# Annotate with both counts and percentages\n",
    "annot = np.empty_like(cm).astype(str)\n",
    "for i in range(cm.shape[0]):\n",
    "    for j in range(cm.shape[1]):\n",
    "        annot[i, j] = f\"{cm[i, j]}\\n({cm_percent[i, j]:.2f}%)\"\n",
    "\n",
    "# -----------------------------\n",
    "# Step 3: Setup plots\n",
    "# -----------------------------\n",
    "sns.set_palette(\"colorblind\")  # colorblind-friendly\n",
    "fig, axes = plt.subplots(2, 2, figsize=(12,9))  # 2x2 layout\n",
    "\n",
    "# ---- 1. Confusion Matrix Heatmap (Row 1, Col 1) ----\n",
    "sns.heatmap(cm, annot=annot, fmt='', cmap='viridis', cbar=False, ax=axes[0, 0])\n",
    "axes[0, 0].set_title(\"Confusion Matrix (Counts & %)\")\n",
    "axes[0, 0].set_xlabel(\"Predicted Label\")\n",
    "axes[0, 0].set_ylabel(\"True Label\")\n",
    "\n",
    "# ---- 2. Precision, Recall, F1 Bar Chart (Row 1, Col 2) ----\n",
    "axes[0, 1].bar(metrics_scores.keys(), metrics_scores.values(),\n",
    "               color=sns.color_palette(\"colorblind\"))\n",
    "axes[0, 1].set_ylim(0, 1)\n",
    "axes[0, 1].set_title(\"Minority Class Metrics\")\n",
    "axes[0, 1].set_ylabel(\"Score\")\n",
    "# Annotate each bar with score values\n",
    "for i, (metric, val) in enumerate(metrics_scores.items()):\n",
    "    axes[0, 1].text(i, val + 0.02, f\"{val:.3f}\", ha='center', fontsize=10)\n",
    "\n",
    "# ---- 3. ROC Curve (Row 2, Col 1) ----\n",
    "axes[1, 0].plot(fpr, tpr, label=f'ROC AUC = {roc_auc_val:.4f}')\n",
    "axes[1, 0].plot([0, 1], [0, 1], color='gray', linestyle='--')\n",
    "axes[1, 0].set_title(\"ROC Curve\")\n",
    "axes[1, 0].set_xlabel(\"False Positive Rate\")\n",
    "axes[1, 0].set_ylabel(\"True Positive Rate\")\n",
    "axes[1, 0].legend(loc='lower right')\n",
    "\n",
    "# ---- 4. Precision-Recall Curve (Row 2, Col 2) ----\n",
    "axes[1, 1].plot(recall, precision, label=f'PR AUC = {pr_auc_val:.4f}')\n",
    "axes[1, 1].set_title(\"Precision-Recall Curve\")\n",
    "axes[1, 1].set_xlabel(\"Recall\")\n",
    "axes[1, 1].set_ylabel(\"Precision\")\n",
    "axes[1, 1].legend(loc='lower left')\n",
    "\n",
    "# -----------------------------\n",
    "# Step 4: Final layout adjustments\n",
    "# -----------------------------\n",
    "plt.suptitle(\"GMM + CBU Classifier Performance\", fontsize=16, y=1.02)\n",
    "plt.tight_layout(rect=[0, 0, 1, 0.97])  # leave space for title\n",
    "plt.show()"
   ]
  },
  {
   "cell_type": "markdown",
   "id": "24372a09",
   "metadata": {},
   "source": [
    "#### Test Set Evaluation – GMM CBU Classifier\n",
    "\n",
    "**Classification Report:**\n",
    "- **Majority class (0 – non-fraud)**  \n",
    "  - Precision: 0.9997, Recall: 0.9995, F1-score: 0.9996  \n",
    "  - Almost perfectly detected.\n",
    "\n",
    "- **Minority class (1 – fraud)**  \n",
    "  - Precision: 0.7207, Recall: 0.8163, F1-score: 0.7656  \n",
    "  - High recall ensures most fraud cases are detected, some false positives exist.\n",
    "\n",
    "\n",
    "\n",
    "**ROC AUC:** 0.9787 → Excellent overall ranking ability  \n",
    "**PR AUC:** 0.7091 → Good precision-recall tradeoff for minority class\n",
    "\n",
    "**Interpretation:**  \n",
    "- Model effectively handles extreme class imbalance  \n",
    "- High recall for fraud detection is desirable  \n",
    "- PR AUC < ROC AUC is expected due to class imbalance  \n",
    "- Overall, strong performance with minimal false alarms\n"
   ]
  },
  {
   "cell_type": "markdown",
   "id": "b330c7a6",
   "metadata": {},
   "source": [
    "## Part C.2: Comparative Analysis"
   ]
  },
  {
   "cell_type": "code",
   "execution_count": 318,
   "id": "00587fe2",
   "metadata": {},
   "outputs": [
    {
     "data": {
      "application/vnd.plotly.v1+json": {
       "config": {
        "plotlyServerURL": "https://plot.ly"
       },
       "data": [
        {
         "name": "Precision",
         "text": {
          "bdata": "EFg5tMh26j/P91PjpZvkP99PjZduEuc/",
          "dtype": "f8"
         },
         "textposition": "auto",
         "type": "bar",
         "x": [
          "Baseline",
          "GMM",
          "GMM + CBU"
         ],
         "y": {
          "bdata": "dNpApw106j+bbLLJJpvkPwJxoeYkEOc/",
          "dtype": "f8"
         }
        },
        {
         "name": "Recall",
         "text": {
          "bdata": "qMZLN4lB5D9YObTIdr7rP+kmMQisHOo/",
          "dtype": "f8"
         },
         "textposition": "auto",
         "type": "bar",
         "x": [
          "Baseline",
          "GMM",
          "GMM + CBU"
         ],
         "y": {
          "bdata": "EI31obE+5D/wcgpeTsHrP4jG+tBYH+o/",
          "dtype": "f8"
         }
        },
        {
         "name": "F1-score",
         "text": {
          "bdata": "i2zn+6nx5j/ZzvdT46XnP1CNl24Sg+g/",
          "dtype": "f8"
         },
         "textposition": "auto",
         "type": "bar",
         "x": [
          "Baseline",
          "GMM",
          "GMM + CBU"
         ],
         "y": {
          "bdata": "XeWZ+Ljv5j9605ve9KbnPzyfHjdjf+g/",
          "dtype": "f8"
         }
        }
       ],
       "layout": {
        "barmode": "group",
        "height": 550,
        "legend": {
         "title": {
          "text": "Metric"
         }
        },
        "template": {
         "data": {
          "bar": [
           {
            "error_x": {
             "color": "#2a3f5f"
            },
            "error_y": {
             "color": "#2a3f5f"
            },
            "marker": {
             "line": {
              "color": "#E5ECF6",
              "width": 0.5
             },
             "pattern": {
              "fillmode": "overlay",
              "size": 10,
              "solidity": 0.2
             }
            },
            "type": "bar"
           }
          ],
          "barpolar": [
           {
            "marker": {
             "line": {
              "color": "#E5ECF6",
              "width": 0.5
             },
             "pattern": {
              "fillmode": "overlay",
              "size": 10,
              "solidity": 0.2
             }
            },
            "type": "barpolar"
           }
          ],
          "carpet": [
           {
            "aaxis": {
             "endlinecolor": "#2a3f5f",
             "gridcolor": "white",
             "linecolor": "white",
             "minorgridcolor": "white",
             "startlinecolor": "#2a3f5f"
            },
            "baxis": {
             "endlinecolor": "#2a3f5f",
             "gridcolor": "white",
             "linecolor": "white",
             "minorgridcolor": "white",
             "startlinecolor": "#2a3f5f"
            },
            "type": "carpet"
           }
          ],
          "choropleth": [
           {
            "colorbar": {
             "outlinewidth": 0,
             "ticks": ""
            },
            "type": "choropleth"
           }
          ],
          "contour": [
           {
            "colorbar": {
             "outlinewidth": 0,
             "ticks": ""
            },
            "colorscale": [
             [
              0,
              "#0d0887"
             ],
             [
              0.1111111111111111,
              "#46039f"
             ],
             [
              0.2222222222222222,
              "#7201a8"
             ],
             [
              0.3333333333333333,
              "#9c179e"
             ],
             [
              0.4444444444444444,
              "#bd3786"
             ],
             [
              0.5555555555555556,
              "#d8576b"
             ],
             [
              0.6666666666666666,
              "#ed7953"
             ],
             [
              0.7777777777777778,
              "#fb9f3a"
             ],
             [
              0.8888888888888888,
              "#fdca26"
             ],
             [
              1,
              "#f0f921"
             ]
            ],
            "type": "contour"
           }
          ],
          "contourcarpet": [
           {
            "colorbar": {
             "outlinewidth": 0,
             "ticks": ""
            },
            "type": "contourcarpet"
           }
          ],
          "heatmap": [
           {
            "colorbar": {
             "outlinewidth": 0,
             "ticks": ""
            },
            "colorscale": [
             [
              0,
              "#0d0887"
             ],
             [
              0.1111111111111111,
              "#46039f"
             ],
             [
              0.2222222222222222,
              "#7201a8"
             ],
             [
              0.3333333333333333,
              "#9c179e"
             ],
             [
              0.4444444444444444,
              "#bd3786"
             ],
             [
              0.5555555555555556,
              "#d8576b"
             ],
             [
              0.6666666666666666,
              "#ed7953"
             ],
             [
              0.7777777777777778,
              "#fb9f3a"
             ],
             [
              0.8888888888888888,
              "#fdca26"
             ],
             [
              1,
              "#f0f921"
             ]
            ],
            "type": "heatmap"
           }
          ],
          "histogram": [
           {
            "marker": {
             "pattern": {
              "fillmode": "overlay",
              "size": 10,
              "solidity": 0.2
             }
            },
            "type": "histogram"
           }
          ],
          "histogram2d": [
           {
            "colorbar": {
             "outlinewidth": 0,
             "ticks": ""
            },
            "colorscale": [
             [
              0,
              "#0d0887"
             ],
             [
              0.1111111111111111,
              "#46039f"
             ],
             [
              0.2222222222222222,
              "#7201a8"
             ],
             [
              0.3333333333333333,
              "#9c179e"
             ],
             [
              0.4444444444444444,
              "#bd3786"
             ],
             [
              0.5555555555555556,
              "#d8576b"
             ],
             [
              0.6666666666666666,
              "#ed7953"
             ],
             [
              0.7777777777777778,
              "#fb9f3a"
             ],
             [
              0.8888888888888888,
              "#fdca26"
             ],
             [
              1,
              "#f0f921"
             ]
            ],
            "type": "histogram2d"
           }
          ],
          "histogram2dcontour": [
           {
            "colorbar": {
             "outlinewidth": 0,
             "ticks": ""
            },
            "colorscale": [
             [
              0,
              "#0d0887"
             ],
             [
              0.1111111111111111,
              "#46039f"
             ],
             [
              0.2222222222222222,
              "#7201a8"
             ],
             [
              0.3333333333333333,
              "#9c179e"
             ],
             [
              0.4444444444444444,
              "#bd3786"
             ],
             [
              0.5555555555555556,
              "#d8576b"
             ],
             [
              0.6666666666666666,
              "#ed7953"
             ],
             [
              0.7777777777777778,
              "#fb9f3a"
             ],
             [
              0.8888888888888888,
              "#fdca26"
             ],
             [
              1,
              "#f0f921"
             ]
            ],
            "type": "histogram2dcontour"
           }
          ],
          "mesh3d": [
           {
            "colorbar": {
             "outlinewidth": 0,
             "ticks": ""
            },
            "type": "mesh3d"
           }
          ],
          "parcoords": [
           {
            "line": {
             "colorbar": {
              "outlinewidth": 0,
              "ticks": ""
             }
            },
            "type": "parcoords"
           }
          ],
          "pie": [
           {
            "automargin": true,
            "type": "pie"
           }
          ],
          "scatter": [
           {
            "fillpattern": {
             "fillmode": "overlay",
             "size": 10,
             "solidity": 0.2
            },
            "type": "scatter"
           }
          ],
          "scatter3d": [
           {
            "line": {
             "colorbar": {
              "outlinewidth": 0,
              "ticks": ""
             }
            },
            "marker": {
             "colorbar": {
              "outlinewidth": 0,
              "ticks": ""
             }
            },
            "type": "scatter3d"
           }
          ],
          "scattercarpet": [
           {
            "marker": {
             "colorbar": {
              "outlinewidth": 0,
              "ticks": ""
             }
            },
            "type": "scattercarpet"
           }
          ],
          "scattergeo": [
           {
            "marker": {
             "colorbar": {
              "outlinewidth": 0,
              "ticks": ""
             }
            },
            "type": "scattergeo"
           }
          ],
          "scattergl": [
           {
            "marker": {
             "colorbar": {
              "outlinewidth": 0,
              "ticks": ""
             }
            },
            "type": "scattergl"
           }
          ],
          "scattermap": [
           {
            "marker": {
             "colorbar": {
              "outlinewidth": 0,
              "ticks": ""
             }
            },
            "type": "scattermap"
           }
          ],
          "scattermapbox": [
           {
            "marker": {
             "colorbar": {
              "outlinewidth": 0,
              "ticks": ""
             }
            },
            "type": "scattermapbox"
           }
          ],
          "scatterpolar": [
           {
            "marker": {
             "colorbar": {
              "outlinewidth": 0,
              "ticks": ""
             }
            },
            "type": "scatterpolar"
           }
          ],
          "scatterpolargl": [
           {
            "marker": {
             "colorbar": {
              "outlinewidth": 0,
              "ticks": ""
             }
            },
            "type": "scatterpolargl"
           }
          ],
          "scatterternary": [
           {
            "marker": {
             "colorbar": {
              "outlinewidth": 0,
              "ticks": ""
             }
            },
            "type": "scatterternary"
           }
          ],
          "surface": [
           {
            "colorbar": {
             "outlinewidth": 0,
             "ticks": ""
            },
            "colorscale": [
             [
              0,
              "#0d0887"
             ],
             [
              0.1111111111111111,
              "#46039f"
             ],
             [
              0.2222222222222222,
              "#7201a8"
             ],
             [
              0.3333333333333333,
              "#9c179e"
             ],
             [
              0.4444444444444444,
              "#bd3786"
             ],
             [
              0.5555555555555556,
              "#d8576b"
             ],
             [
              0.6666666666666666,
              "#ed7953"
             ],
             [
              0.7777777777777778,
              "#fb9f3a"
             ],
             [
              0.8888888888888888,
              "#fdca26"
             ],
             [
              1,
              "#f0f921"
             ]
            ],
            "type": "surface"
           }
          ],
          "table": [
           {
            "cells": {
             "fill": {
              "color": "#EBF0F8"
             },
             "line": {
              "color": "white"
             }
            },
            "header": {
             "fill": {
              "color": "#C8D4E3"
             },
             "line": {
              "color": "white"
             }
            },
            "type": "table"
           }
          ]
         },
         "layout": {
          "annotationdefaults": {
           "arrowcolor": "#2a3f5f",
           "arrowhead": 0,
           "arrowwidth": 1
          },
          "autotypenumbers": "strict",
          "coloraxis": {
           "colorbar": {
            "outlinewidth": 0,
            "ticks": ""
           }
          },
          "colorscale": {
           "diverging": [
            [
             0,
             "#8e0152"
            ],
            [
             0.1,
             "#c51b7d"
            ],
            [
             0.2,
             "#de77ae"
            ],
            [
             0.3,
             "#f1b6da"
            ],
            [
             0.4,
             "#fde0ef"
            ],
            [
             0.5,
             "#f7f7f7"
            ],
            [
             0.6,
             "#e6f5d0"
            ],
            [
             0.7,
             "#b8e186"
            ],
            [
             0.8,
             "#7fbc41"
            ],
            [
             0.9,
             "#4d9221"
            ],
            [
             1,
             "#276419"
            ]
           ],
           "sequential": [
            [
             0,
             "#0d0887"
            ],
            [
             0.1111111111111111,
             "#46039f"
            ],
            [
             0.2222222222222222,
             "#7201a8"
            ],
            [
             0.3333333333333333,
             "#9c179e"
            ],
            [
             0.4444444444444444,
             "#bd3786"
            ],
            [
             0.5555555555555556,
             "#d8576b"
            ],
            [
             0.6666666666666666,
             "#ed7953"
            ],
            [
             0.7777777777777778,
             "#fb9f3a"
            ],
            [
             0.8888888888888888,
             "#fdca26"
            ],
            [
             1,
             "#f0f921"
            ]
           ],
           "sequentialminus": [
            [
             0,
             "#0d0887"
            ],
            [
             0.1111111111111111,
             "#46039f"
            ],
            [
             0.2222222222222222,
             "#7201a8"
            ],
            [
             0.3333333333333333,
             "#9c179e"
            ],
            [
             0.4444444444444444,
             "#bd3786"
            ],
            [
             0.5555555555555556,
             "#d8576b"
            ],
            [
             0.6666666666666666,
             "#ed7953"
            ],
            [
             0.7777777777777778,
             "#fb9f3a"
            ],
            [
             0.8888888888888888,
             "#fdca26"
            ],
            [
             1,
             "#f0f921"
            ]
           ]
          },
          "colorway": [
           "#636efa",
           "#EF553B",
           "#00cc96",
           "#ab63fa",
           "#FFA15A",
           "#19d3f3",
           "#FF6692",
           "#B6E880",
           "#FF97FF",
           "#FECB52"
          ],
          "font": {
           "color": "#2a3f5f"
          },
          "geo": {
           "bgcolor": "white",
           "lakecolor": "white",
           "landcolor": "#E5ECF6",
           "showlakes": true,
           "showland": true,
           "subunitcolor": "white"
          },
          "hoverlabel": {
           "align": "left"
          },
          "hovermode": "closest",
          "mapbox": {
           "style": "light"
          },
          "paper_bgcolor": "white",
          "plot_bgcolor": "#E5ECF6",
          "polar": {
           "angularaxis": {
            "gridcolor": "white",
            "linecolor": "white",
            "ticks": ""
           },
           "bgcolor": "#E5ECF6",
           "radialaxis": {
            "gridcolor": "white",
            "linecolor": "white",
            "ticks": ""
           }
          },
          "scene": {
           "xaxis": {
            "backgroundcolor": "#E5ECF6",
            "gridcolor": "white",
            "gridwidth": 2,
            "linecolor": "white",
            "showbackground": true,
            "ticks": "",
            "zerolinecolor": "white"
           },
           "yaxis": {
            "backgroundcolor": "#E5ECF6",
            "gridcolor": "white",
            "gridwidth": 2,
            "linecolor": "white",
            "showbackground": true,
            "ticks": "",
            "zerolinecolor": "white"
           },
           "zaxis": {
            "backgroundcolor": "#E5ECF6",
            "gridcolor": "white",
            "gridwidth": 2,
            "linecolor": "white",
            "showbackground": true,
            "ticks": "",
            "zerolinecolor": "white"
           }
          },
          "shapedefaults": {
           "line": {
            "color": "#2a3f5f"
           }
          },
          "ternary": {
           "aaxis": {
            "gridcolor": "white",
            "linecolor": "white",
            "ticks": ""
           },
           "baxis": {
            "gridcolor": "white",
            "linecolor": "white",
            "ticks": ""
           },
           "bgcolor": "#E5ECF6",
           "caxis": {
            "gridcolor": "white",
            "linecolor": "white",
            "ticks": ""
           }
          },
          "title": {
           "x": 0.05
          },
          "xaxis": {
           "automargin": true,
           "gridcolor": "white",
           "linecolor": "white",
           "ticks": "",
           "title": {
            "standoff": 15
           },
           "zerolinecolor": "white",
           "zerolinewidth": 2
          },
          "yaxis": {
           "automargin": true,
           "gridcolor": "white",
           "linecolor": "white",
           "ticks": "",
           "title": {
            "standoff": 15
           },
           "zerolinecolor": "white",
           "zerolinewidth": 2
          }
         }
        },
        "title": {
         "text": "📊 Model Comparison<br><sup>Precision, Recall, and F1-score (Minority Class)</sup>",
         "x": 0.5,
         "xanchor": "center"
        },
        "updatemenus": [
         {
          "buttons": [
           {
            "args": [
             {
              "visible": [
               true,
               true,
               true
              ]
             },
             {
              "title": "📊 Model Comparison<br><sup>Precision, Recall, and F1-score (Minority Class)</sup>"
             }
            ],
            "label": "All Metrics",
            "method": "update"
           },
           {
            "args": [
             {
              "visible": [
               true,
               false,
               false
              ]
             },
             {
              "title": "📊 Model Comparison<br><sup>Precision (Minority Class)</sup>"
             }
            ],
            "label": "Precision Only",
            "method": "update"
           },
           {
            "args": [
             {
              "visible": [
               false,
               true,
               false
              ]
             },
             {
              "title": "📊 Model Comparison<br><sup>Recall (Minority Class)</sup>"
             }
            ],
            "label": "Recall Only",
            "method": "update"
           },
           {
            "args": [
             {
              "visible": [
               false,
               false,
               true
              ]
             },
             {
              "title": "📊 Model Comparison<br><sup>F1-score (Minority Class)</sup>"
             }
            ],
            "label": "F1-score Only",
            "method": "update"
           }
          ],
          "type": "dropdown",
          "x": 1.2,
          "xanchor": "left",
          "y": 0.6,
          "yanchor": "middle"
         }
        ],
        "width": 1200,
        "xaxis": {
         "title": {
          "text": "Model"
         }
        },
        "yaxis": {
         "range": [
          0,
          1
         ],
         "title": {
          "text": "Score"
         }
        }
       }
      }
     },
     "metadata": {},
     "output_type": "display_data"
    }
   ],
   "source": [
    "# === Helper function: compute metrics for fraud class (label = 1) ===\n",
    "def minority_scores(y_true, y_pred, model_name):\n",
    "    # precision, recall, f1 for the minority class only (fraud = 1)\n",
    "    p, r, f, _ = precision_recall_fscore_support(y_true, y_pred, labels=[1])\n",
    "    return {\"Model\": model_name, \"Precision\": p[0], \"Recall\": r[0], \"F1-score\": f[0]}\n",
    "\n",
    "# === Collect metrics for each model ===\n",
    "results = []\n",
    "results.append(minority_scores(y_test, y_pred_baseline, \"Baseline\"))   # Logistic Regression baseline\n",
    "results.append(minority_scores(y_test, y_pred_gmm, \"GMM\"))            # GMM oversampling\n",
    "results.append(minority_scores(y_test, y_pred, \"GMM + CBU\"))          # GMM with Clustering-Based Undersampling\n",
    "\n",
    "# Convert results to DataFrame for easy plotting\n",
    "df_metrics = pd.DataFrame(results)\n",
    "\n",
    "# === Create grouped bar chart ===\n",
    "fig = go.Figure()\n",
    "\n",
    "# Add one bar per metric across all models\n",
    "for metric in [\"Precision\", \"Recall\", \"F1-score\"]:\n",
    "    fig.add_trace(go.Bar(\n",
    "        x=df_metrics[\"Model\"],                 # x-axis = models\n",
    "        y=df_metrics[metric],                  # y-axis = score values\n",
    "        name=metric,                           # bar group name\n",
    "        text=df_metrics[metric].round(3),      # show rounded values on bars\n",
    "        textposition=\"auto\"                    # place text automatically\n",
    "    ))\n",
    "\n",
    "# === Dropdown menu for filtering metrics ===\n",
    "fig.update_layout(\n",
    "    updatemenus=[dict(\n",
    "        type=\"dropdown\",\n",
    "        x=1.20, y=0.6,                         # position of dropdown (adjust x,y)\n",
    "        xanchor=\"left\", yanchor=\"middle\",      # anchors relative to (x,y)\n",
    "        buttons=list([\n",
    "            # Show all metrics\n",
    "            dict(label=\"All Metrics\", method=\"update\",\n",
    "                 args=[{\"visible\": [True, True, True]},\n",
    "                       {\"title\": \"📊 Model Comparison<br><sup>Precision, Recall, and F1-score (Minority Class)</sup>\"}]),\n",
    "            # Show only Precision\n",
    "            dict(label=\"Precision Only\", method=\"update\",\n",
    "                 args=[{\"visible\": [True, False, False]},\n",
    "                       {\"title\": \"📊 Model Comparison<br><sup>Precision (Minority Class)</sup>\"}]),\n",
    "            # Show only Recall\n",
    "            dict(label=\"Recall Only\", method=\"update\",\n",
    "                 args=[{\"visible\": [False, True, False]},\n",
    "                       {\"title\": \"📊 Model Comparison<br><sup>Recall (Minority Class)</sup>\"}]),\n",
    "            # Show only F1-score\n",
    "            dict(label=\"F1-score Only\", method=\"update\",\n",
    "                 args=[{\"visible\": [False, False, True]},\n",
    "                       {\"title\": \"📊 Model Comparison<br><sup>F1-score (Minority Class)</sup>\"}]),\n",
    "        ]),\n",
    "    )]\n",
    ")\n",
    "\n",
    "# === Layout settings ===\n",
    "fig.update_layout(\n",
    "    title=dict(\n",
    "        text=\"📊 Model Comparison<br><sup>Precision, Recall, and F1-score (Minority Class)</sup>\",\n",
    "        x=0.5,                # center title\n",
    "        xanchor=\"center\"\n",
    "    ),\n",
    "    xaxis_title=\"Model\",\n",
    "    yaxis_title=\"Score\",\n",
    "    yaxis=dict(range=[0,1]), # metrics are between 0 and 1\n",
    "    barmode=\"group\",         # group bars side by side\n",
    "    legend_title=\"Metric\",\n",
    "    width=1200, height=550   # figure size\n",
    ")\n",
    "\n",
    "# === Show interactive figure ===\n",
    "fig.show()"
   ]
  },
  {
   "cell_type": "markdown",
   "id": "755e4458",
   "metadata": {},
   "source": [
    "### 🔎 Detailed Observations: Model Comparison (Minority Class – Fraud Detection)\n",
    "\n",
    "We compare **three models** – Baseline Logistic Regression, GMM Oversampling, and GMM + CBU (Clustering-Based Undersampling) – on **Precision, Recall, and F1-score** for the minority fraud class.  \n",
    "\n",
    "---\n",
    "\n",
    "#### 1. **Baseline Logistic Regression**\n",
    "- **Precision = 0.827**\n",
    "  - When the model predicts \"fraud\", ~83% of those predictions are correct.\n",
    "  - This means very few false alarms (low false positives).\n",
    "- **Recall = 0.633**\n",
    "  - The model detects only ~63% of actual fraud cases.\n",
    "  - Nearly 37% of fraudulent transactions are missed.\n",
    "- **F1-score = 0.717**\n",
    "  - The harmonic mean reflects the imbalance: high precision but weak recall.\n",
    "- **Interpretation:**  \n",
    "  - The baseline is conservative: it predicts fraud cautiously, leading to high precision.\n",
    "  - However, this comes at the cost of **missing many fraudulent cases**.\n",
    "\n",
    "---\n",
    "\n",
    "#### 2. **GMM (Oversampling Only)**\n",
    "- **Precision = 0.644**\n",
    "  - Lower than baseline → more false positives.\n",
    "  - The model is less selective when predicting fraud.\n",
    "- **Recall = 0.867**\n",
    "  - Major boost compared to baseline.\n",
    "  - The model detects nearly 87% of fraud cases.\n",
    "- **F1-score = 0.739**\n",
    "  - Slightly higher than baseline, showing a better balance overall.\n",
    "- **Interpretation:**  \n",
    "  - By generating synthetic minority samples with GMM, the model becomes more sensitive.\n",
    "  - It **catches more fraud**, but at the expense of mislabeling some legitimate transactions as fraud.\n",
    "\n",
    "---\n",
    "\n",
    "#### 3. **GMM + CBU (Oversampling + Undersampling)**\n",
    "- **Precision = 0.721**\n",
    "  - Higher than plain GMM, closer to baseline.\n",
    "  - False positives are reduced compared to GMM.\n",
    "- **Recall = 0.816**\n",
    "  - Slightly lower than GMM, but still far better than baseline.\n",
    "- **F1-score = 0.766**\n",
    "  - Highest among all three models → best trade-off.\n",
    "- **Interpretation:**  \n",
    "  - Combining GMM oversampling with clustering-based undersampling provides **both better recall and improved precision**.\n",
    "  - The model achieves a **balanced fraud detection strategy**, reducing missed fraud cases while keeping false alarms reasonable.\n",
    "\n",
    "---\n",
    "\n",
    "### ✅ Key Insights\n",
    "1. **Baseline:**  \n",
    "   - Strong in **precision**, weak in **recall**.  \n",
    "   - Suitable if false alarms are very costly, but it **misses too many frauds**.\n",
    "\n",
    "2. **GMM:**  \n",
    "   - Strong in **recall**, weaker in **precision**.  \n",
    "   - Suitable if catching fraud is the top priority, even if it increases false alarms.\n",
    "\n",
    "3. **GMM + CBU:**  \n",
    "   - Achieves the **best balance** with the highest F1-score.  \n",
    "   - Captures most fraud cases while maintaining acceptable precision.  \n",
    "   - This makes it the most **practical model** for fraud detection in real-world settings.\n",
    "\n",
    "---\n",
    "\n",
    "### 📊 Overall Conclusion\n",
    "- Fraud detection is a **recall-critical** problem → missing a fraud is often worse than a false alarm.  \n",
    "- The **Baseline model** is too conservative and under-detects fraud.  \n",
    "- **GMM oversampling** drastically improves recall but reduces precision.  \n",
    "- **GMM + CBU** emerges as the **optimal choice**, balancing recall and precision, and achieving the best F1-score.\n"
   ]
  },
  {
   "cell_type": "markdown",
   "id": "633ba3a5",
   "metadata": {},
   "source": []
  },
  {
   "cell_type": "markdown",
   "id": "d3a0c756",
   "metadata": {},
   "source": [
    "### Task C.3: Final Recommendation"
   ]
  },
  {
   "cell_type": "markdown",
   "id": "20d21adb",
   "metadata": {},
   "source": [
    "### 🏆 Final Recommendation\n",
    "\n",
    "Based on the comparative analysis of Baseline Logistic Regression, GMM Oversampling, and GMM + CBU:\n",
    "\n",
    "- **GMM + CBU (Oversampling + Clustering-Based Undersampling) is the recommended approach.**  \n",
    "  - It achieves the **highest F1-score (0.766)**, demonstrating the best trade-off between **precision** and **recall**.  \n",
    "  - Compared to the baseline:\n",
    "    - **Recall** improves from **0.633 → 0.816**, meaning far fewer fraud cases are missed.  \n",
    "    - **Precision** remains reasonable (0.721), avoiding excessive false alarms.  \n",
    "  - Compared to plain GMM oversampling:\n",
    "    - Precision is higher, while recall remains strong, leading to more balanced detection.\n",
    "\n",
    "- **Why this matters:**  \n",
    "  - Fraud detection is **recall-critical**: failing to catch fraudulent transactions can have significant financial and security costs.  \n",
    "  - At the same time, precision cannot be too low, or the system will generate too many false alerts, burdening investigators.  \n",
    "  - **GMM + CBU strikes the right balance** — it captures more fraud while maintaining acceptable false positive rates.\n",
    "\n",
    "---\n",
    "\n",
    "✅ **Conclusion:**  \n",
    "Implementing **GMM-based synthetic sampling combined with clustering-based undersampling** is the most effective strategy for this dataset.  \n",
    "It improves fraud detection performance over both the baseline and plain GMM, making it the **optimal model**.\n"
   ]
  },
  {
   "cell_type": "markdown",
   "id": "49fb0d32",
   "metadata": {},
   "source": []
  },
  {
   "cell_type": "markdown",
   "id": "fc6471e3",
   "metadata": {},
   "source": []
  }
 ],
 "metadata": {
  "kernelspec": {
   "display_name": "Python 3",
   "language": "python",
   "name": "python3"
  },
  "language_info": {
   "codemirror_mode": {
    "name": "ipython",
    "version": 3
   },
   "file_extension": ".py",
   "mimetype": "text/x-python",
   "name": "python",
   "nbconvert_exporter": "python",
   "pygments_lexer": "ipython3",
   "version": "3.11.9"
  }
 },
 "nbformat": 4,
 "nbformat_minor": 5
}
